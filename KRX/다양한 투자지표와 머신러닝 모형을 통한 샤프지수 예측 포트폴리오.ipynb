{
 "cells": [
  {
   "cell_type": "markdown",
   "metadata": {},
   "source": [
    "# 제 2회 KRX 주식 투자 알고리즘 경진대회"
   ]
  },
  {
   "cell_type": "markdown",
   "metadata": {},
   "source": [
    "## Phase 1. Data"
   ]
  },
  {
   "cell_type": "markdown",
   "metadata": {},
   "source": [
    "### 1. Data Import from pykrx packages : 2021-07-29 ~ 2023-07-28"
   ]
  },
  {
   "cell_type": "code",
   "execution_count": 464,
   "metadata": {},
   "outputs": [],
   "source": [
    "### package importing\n",
    "from pykrx import stock\n",
    "from datetime import datetime, date, timedelta\n",
    "from requests.adapters import HTTPAdapter\n",
    "from urllib3.util.retry import Retry\n",
    "from itertools import groupby\n",
    "from operator import itemgetter\n",
    "from sklearn.metrics import mean_squared_error\n",
    "from sklearn.preprocessing import LabelEncoder\n",
    "from sklearn.ensemble import RandomForestRegressor\n",
    "from sklearn.model_selection import train_test_split\n",
    "from sklearn.model_selection import GridSearchCV\n",
    "from sklearn.metrics import explained_variance_score\n",
    "from lightgbm import LGBMRegressor\n",
    "from bs4 import BeautifulSoup\n",
    "\n",
    "import xgboost\n",
    "import requests\n",
    "import numpy as np\n",
    "import pandas as pd\n",
    "import sklearn\n",
    "import time\n",
    "import io\n",
    "import zipfile\n",
    "import xml.etree.ElementTree as et\n",
    "import json\n",
    "import time\n",
    "import os\n",
    "import chardet\n",
    "import warnings\n",
    "warnings.filterwarnings('ignore')"
   ]
  },
  {
   "cell_type": "code",
   "execution_count": 3,
   "metadata": {},
   "outputs": [],
   "source": [
    "### KRX제공 데이터 : 주식 종목코드 추출\n",
    "data = pd.read_excel(\"C:/Users/kyt28/OneDrive/바탕 화면/submit_data/KRX 공모전 데이터/sample_submission.xlsx\")\n",
    "code = data['종목코드']\n",
    "code = [code[i].replace(\"A\",\"\") for i in range(len(code))]"
   ]
  },
  {
   "cell_type": "code",
   "execution_count": 20,
   "metadata": {},
   "outputs": [],
   "source": [
    "### pykrx package로부터 종목 데이터 추출\n",
    "\n",
    "## Base 날짜 세팅\n",
    "date = stock.get_market_ohlcv(\"20210729\", \"20230728\", code[0], adjusted = False).reset_index()['날짜']\n",
    "\n",
    "## 종목 데이터 추출 by pykrx\n",
    "stock_data = pd.DataFrame()\n",
    "th = 0\n",
    "error_code = []\n",
    "\n",
    "for i in code :\n",
    "    try :\n",
    "        dat = pd.merge(date, stock.get_market_ohlcv(\"20210729\", \"20230728\", i, adjusted = False).reset_index(), on = '날짜', how = 'left')\n",
    "        time.sleep(0.5)\n",
    "        dat = pd.merge(dat, stock.get_market_fundamental(\"20210729\", \"20230728\", i).reset_index(), on = '날짜', how = 'left')\n",
    "        time.sleep(0.5)\n",
    "        dat = pd.merge(dat, stock.get_market_trading_value_by_date(\"20210729\", \"20230728\", i, detail=True).reset_index(), on = '날짜', how = 'left')\n",
    "        time.sleep(0.5)\n",
    "        dat = pd.merge(dat, stock.get_market_cap(\"20210729\", \"20230728\", i).reset_index().drop(['거래량','거래대금'],axis=1), on = '날짜', how = 'left')\n",
    "        time.sleep(0.5)\n",
    "        dat = pd.merge(dat, stock.get_exhaustion_rates_of_foreign_investment(\"20210729\", \"20230728\", i).reset_index().drop(['상장주식수'],axis=1), on = '날짜', how = 'left')\n",
    "\n",
    "        stock_data['종목코드'] = i\n",
    "        \n",
    "        stock_data = pd.concat([stock_data,dat], axis=0)\n",
    "        \n",
    "    except :\n",
    "        error_code.append(i)"
   ]
  },
  {
   "cell_type": "code",
   "execution_count": 70,
   "metadata": {},
   "outputs": [
    {
     "name": "stdout",
     "output_type": "stream",
     "text": [
      "에러코드 갯수 : 41\n",
      "에러코드 : ['A003560', 'A006580', 'A007610', 'A012600', 'A014200', 'A015540', 'A024810', 'A032860', 'A033180', 'A033340', 'A044060', 'A053590', 'A056090', 'A057880', 'A062860', 'A065560', 'A066410', 'A069110', 'A078130', 'A078590', 'A091090', 'A093230', 'A096040', 'A099520', 'A101140', 'A109070', 'A121800', 'A136510', 'A150840', 'A160600', 'A178780', 'A181340', 'A214870', 'A215090', 'A226440', 'A257370', 'A263540', 'A268600', 'A269620', 'A290380', 'A318020']\n"
     ]
    }
   ],
   "source": [
    "### error code\n",
    "\n",
    "## 에러코드는 데이터 추출이 불가능하므로 분석대상에서 제외 (포트폴리오 대상에서 제외 (201~1800))\n",
    "ec = [\"A\"+error_code[i] for i in range(len(error_code))]\n",
    "print('에러코드 갯수 :',len(ec))\n",
    "print('에러코드 :',ec)"
   ]
  },
  {
   "cell_type": "code",
   "execution_count": 98,
   "metadata": {},
   "outputs": [],
   "source": [
    "## 에러코드에 대한 순위 마지막순번으로 부여 x ~ 1800위\n",
    "error_rank = pd.DataFrame(ec,columns = ['종목코드'])\n",
    "\n",
    "rank = []\n",
    "for i in range(1801-len(error_rank),1801) :\n",
    "    rank.append(i)\n",
    "    \n",
    "error_rank['순위'] = rank"
   ]
  },
  {
   "cell_type": "code",
   "execution_count": 99,
   "metadata": {},
   "outputs": [],
   "source": [
    "## data export\n",
    "error_rank.to_csv(\"C:/Users/kyt28/OneDrive/바탕 화면/submit_data/phase1_result.csv\", index=False, encoding=\"utf-8-sig\")"
   ]
  },
  {
   "cell_type": "markdown",
   "metadata": {},
   "source": [
    "### 2. Data Export"
   ]
  },
  {
   "cell_type": "code",
   "execution_count": 81,
   "metadata": {},
   "outputs": [
    {
     "name": "stdout",
     "output_type": "stream",
     "text": [
      "(280137, 18)\n",
      "1959\n"
     ]
    }
   ],
   "source": [
    "### 최종 분석 대상 종목코드의 데이터\n",
    "\n",
    "## 사용 변수 추출\n",
    "stock_data = stock_data[['날짜', '종목코드', '종가', '저가', '고가', '거래량', '거래대금', '등락률', 'BPS', 'PER','PBR', 'EPS', '연기금', '외국인', '기타외국인', '시가총액', '상장주식수', '지분율']]\n",
    "\n",
    "## data shape\n",
    "print(stock_data.shape)\n",
    "\n",
    "## 분석 대상 종목 갯수\n",
    "print(stock_data['종목코드'].nunique())\n",
    "\n",
    "## 종목코드 복구\n",
    "stock_data['종목코드'] = \"A\" + stock_data[\"종목코드\"]"
   ]
  },
  {
   "cell_type": "code",
   "execution_count": 257,
   "metadata": {},
   "outputs": [],
   "source": [
    "### Date Split & Export\n",
    "\n",
    "## 모델에 활용할 데이터 (2021-07-29 ~ 2023-07-28) : 거래정지 일수(거래량 = 0)가 많은 종목들을 선별하기 위한 데이터 셋\n",
    "notrade = stock_data[['날짜','종목코드','거래량']]\n",
    "notrade.to_csv(\"C:/Users/kyt28/OneDrive/바탕 화면/submit_data/notrade.csv\", index=False, encoding=\"utf-8-sig\")\n",
    "\n",
    "## 분석에 활용할 데이터 (2023-01-01 ~ 2023-07-28)\n",
    "stock_data = stock_data[stock_data['날짜'] >= '2023-01-01']\n",
    "stock_data.to_csv(\"C:/Users/kyt28/OneDrive/바탕 화면/submit_data/phase1_data.csv\", index=False, encoding=\"utf-8-sig\")"
   ]
  },
  {
   "cell_type": "markdown",
   "metadata": {},
   "source": [
    "---------------------------------------------------------------------------------------------------------------------------------------------------------------------"
   ]
  },
  {
   "cell_type": "markdown",
   "metadata": {},
   "source": [
    "## Phase 2. Data Variable\n",
    ": 해당 Phase는 분석에 필요한 다양한 변수들을 만드는 작업을 거친다"
   ]
  },
  {
   "cell_type": "markdown",
   "metadata": {},
   "source": [
    "### 1. 변수 생성"
   ]
  },
  {
   "cell_type": "code",
   "execution_count": 101,
   "metadata": {},
   "outputs": [],
   "source": [
    "### data import\n",
    "data = pd.read_csv(\"C:/Users/kyt28/OneDrive/바탕 화면/submit_data/phase1_data.csv\")\n",
    "\n",
    "## 변수 확인\n",
    "data.columns\n",
    "\n",
    "## unique한 종목코드 추출\n",
    "code = data['종목코드'].unique().tolist()"
   ]
  },
  {
   "cell_type": "markdown",
   "metadata": {},
   "source": [
    "##### 변수 생성에 필요한 함수"
   ]
  },
  {
   "cell_type": "code",
   "execution_count": 105,
   "metadata": {},
   "outputs": [],
   "source": [
    "def MA(n,x) :\n",
    "    ma = []\n",
    "    \n",
    "    for i in code :\n",
    "        ma.extend(data[data['종목코드'] == i][x].rolling(window=n).mean().tolist())\n",
    "    \n",
    "    return ma"
   ]
  },
  {
   "cell_type": "code",
   "execution_count": 115,
   "metadata": {},
   "outputs": [],
   "source": [
    "def MSD(n,x) :\n",
    "    msd = []\n",
    "    \n",
    "    for i in code :\n",
    "        msd.extend(data[data['종목코드'] == i][x].rolling(window=n).std().tolist())\n",
    "    \n",
    "    return msd"
   ]
  },
  {
   "cell_type": "markdown",
   "metadata": {},
   "source": [
    "##### - Y 변수 : 개별 종목 당 현재 날짜 기준으로 15영업일 뒤의 Sharpe Index 계산"
   ]
  },
  {
   "cell_type": "code",
   "execution_count": 102,
   "metadata": {},
   "outputs": [
    {
     "name": "stderr",
     "output_type": "stream",
     "text": [
      "<ipython-input-102-c5a08351e33a>:13: RuntimeWarning: divide by zero encountered in double_scalars\n",
      "  stock_SI.append(rev/vol)\n"
     ]
    }
   ],
   "source": [
    "### Y\n",
    "stock_SI = []\n",
    "\n",
    "for c in code :\n",
    "    dat = data[data['종목코드'] == c]\n",
    "    dat_end = dat['종가'].tolist()\n",
    "    dat_re = dat['등락률'] / 100 * 250 \n",
    "    dat_re = dat_re.tolist()\n",
    "    for i in range(14,(len(dat)-1)) :\n",
    "        rev = (dat_end[i+1] - dat_end[i+1-14])/dat_end[i+1-14] * 250/15 - 0.035\n",
    "        d = dat_re[(i-12):(i+1)]\n",
    "        vol = np.sqrt(np.sum((d - np.mean(d))**2)/13)\n",
    "        stock_SI.append(rev/vol)\n",
    "    stock_SI.extend([np.nan]*15)\n",
    "    \n",
    "data['15by1_SI'] = stock_SI\n",
    "data = data.replace([np.inf,-np.inf],0)"
   ]
  },
  {
   "cell_type": "markdown",
   "metadata": {},
   "source": [
    "##### X 변수"
   ]
  },
  {
   "cell_type": "markdown",
   "metadata": {},
   "source": [
    "##### - X1 : 외인 & 연기금 수급 by 거래대금"
   ]
  },
  {
   "cell_type": "code",
   "execution_count": 106,
   "metadata": {},
   "outputs": [],
   "source": [
    "data['외국인총합'] = data['외국인'] + data['기타외국인']\n",
    "data['외국인거래율'] = data['외국인총합']/data['거래대금']\n",
    "data['연기금거래율'] = data['연기금']/data['거래대금'] "
   ]
  },
  {
   "cell_type": "markdown",
   "metadata": {},
   "source": [
    "##### - X2 : 외인 거래 대비 5일 이동평균선(외인 거래)"
   ]
  },
  {
   "cell_type": "code",
   "execution_count": 107,
   "metadata": {},
   "outputs": [],
   "source": [
    "data['MAfor'] = MA(5,'외국인총합')\n",
    "data['ForProp'] = data['외국인총합']/data['MAfor']"
   ]
  },
  {
   "cell_type": "markdown",
   "metadata": {},
   "source": [
    "##### - X3 : 이동평균선 (5일, 15일, 60일)"
   ]
  },
  {
   "cell_type": "code",
   "execution_count": 109,
   "metadata": {},
   "outputs": [],
   "source": [
    "data['MA5'] = MA(5,'종가')\n",
    "data['MA15'] = MA(15,'종가')\n",
    "data['MA60'] = MA(60,'종가')"
   ]
  },
  {
   "cell_type": "markdown",
   "metadata": {},
   "source": [
    "##### - X4 : MACD (12일, 26일 차이 & signal 선)"
   ]
  },
  {
   "cell_type": "code",
   "execution_count": 112,
   "metadata": {},
   "outputs": [],
   "source": [
    "data['MA12'] = MA(12,'종가')\n",
    "data['MA26'] = MA(26,'종가')\n",
    "data['MACD'] = data['MA12'] - data['MA26']\n",
    "data['MACDsignal'] = MA(9,'MACD')"
   ]
  },
  {
   "cell_type": "code",
   "execution_count": 113,
   "metadata": {},
   "outputs": [],
   "source": [
    "# MACD가 MACD signal 선을 상향 돌파하면 high, 하향 돌파하면 low\n",
    "macd = []\n",
    "for c in code :\n",
    "    dt = data[data['종목코드'] == c].reset_index()\n",
    "    \n",
    "    macd.append(np.nan)\n",
    "    for i in range(len(dt)-1) :\n",
    "        if pd.isna(dt['MACDsignal'][i+1]) :\n",
    "            macd.append(np.nan)\n",
    "        elif (dt['MACD'][i] < dt['MACDsignal'][i]) & (dt['MACD'][i+1] > dt['MACDsignal'][i+1])  :\n",
    "            macd.append(\"high\")\n",
    "        elif (dt['MACD'][i] > dt['MACDsignal'][i]) & (dt['MACD'][i+1] < dt['MACDsignal'][i+1]) :\n",
    "            macd.append(\"low\")\n",
    "        else : macd.append(\"Normal\")\n",
    "            \n",
    "data['MACDtouch'] = macd\n",
    "data = data.drop(['MA12','MA26'],axis=1)"
   ]
  },
  {
   "cell_type": "markdown",
   "metadata": {},
   "source": [
    "##### - X5 : 볼린저밴드 (15,2)"
   ]
  },
  {
   "cell_type": "code",
   "execution_count": 116,
   "metadata": {},
   "outputs": [],
   "source": [
    "### 볼린저 밴드 : 종가가 15이평선의 2표준편차 이상 터치시 HighTouch, 하향 터치시 LowTouch\n",
    "MA15sd = MSD(15,'종가')\n",
    "\n",
    "bollinger = []\n",
    "for i in range(len(data)) :\n",
    "    if pd.isna(data['MA15'][i]) :\n",
    "        bollinger.append(np.nan)\n",
    "    elif data['MA15'][i] - MA15sd[i]*2 > data['종가'][i] :\n",
    "        bollinger.append(\"LowTouch\")\n",
    "    elif data['MA15'][i] + MA15sd[i]*2 < data['종가'][i] :\n",
    "        bollinger.append(\"HighTouch\")\n",
    "    else : bollinger.append(\"Normal\")\n",
    "        \n",
    "data['bollinger'] = bollinger"
   ]
  },
  {
   "cell_type": "markdown",
   "metadata": {},
   "source": [
    "##### - X6 : RSI"
   ]
  },
  {
   "cell_type": "code",
   "execution_count": 117,
   "metadata": {},
   "outputs": [],
   "source": [
    "### RSI 지수\n",
    "\n",
    "## 전날 대비 상승 or 하락분 계신\n",
    "data['dff'] = data['종가']\n",
    "\n",
    "dff = []\n",
    "for i in code :\n",
    "    dt = data[data['종목코드'] == i]['dff']\n",
    "    dff.extend(dt.diff(periods=1).tolist())\n",
    "    \n",
    "data['dff'] = dff"
   ]
  },
  {
   "cell_type": "code",
   "execution_count": 118,
   "metadata": {},
   "outputs": [],
   "source": [
    "## RSI 계산\n",
    "RSI = []\n",
    "for i in code :\n",
    "    dt = data[data['종목코드'] == i]['dff'].tolist()\n",
    "    RSI.extend([np.nan]*14)\n",
    "    for j in range(len(dt)-14) :\n",
    "        inc = dec = 0\n",
    "        for k in range(j,j+14) :\n",
    "            if dt[k] > 0 : inc += dt[k]\n",
    "            elif dt[k] < 0 : dec += abs(dt[k])\n",
    "        if inc+dec == 0 :\n",
    "            RSI.append(0.5)\n",
    "        else : RSI.append(inc/(inc + dec) * 100)\n",
    "            \n",
    "data['RSI'] = RSI\n",
    "data = data.drop(['dff'],axis=1)"
   ]
  },
  {
   "cell_type": "markdown",
   "metadata": {},
   "source": [
    "##### - X7 : MFI"
   ]
  },
  {
   "cell_type": "code",
   "execution_count": 119,
   "metadata": {},
   "outputs": [],
   "source": [
    "### MFI 지수\n",
    "\n",
    "## 종가 저가 고가 평균 및 거래량 곱 계산\n",
    "data['MF'] = (data['고가'] + data['저가'] + data['종가'])/3 * data['거래량']\n",
    "data['TP'] = (data['고가'] + data['저가'] + data['종가'])/3\n",
    "\n",
    "## 평균값의 상승분 계산\n",
    "dff_tp = []\n",
    "for i in code :\n",
    "    dt = data[data['종목코드'] == i]['TP']\n",
    "    dff_tp.extend(dt.diff(periods=1).tolist())\n",
    "    \n",
    "data['TP_dff'] = dff_tp"
   ]
  },
  {
   "cell_type": "code",
   "execution_count": 122,
   "metadata": {},
   "outputs": [],
   "source": [
    "## MFI 계산\n",
    "MFI = []\n",
    "for i in code :\n",
    "    dff_tp = data[data['종목코드'] == i]['TP_dff'].tolist()\n",
    "    mf = data[data['종목코드'] == i]['MF'].tolist()\n",
    "    MFI.extend([np.nan]*14)\n",
    "    for j in range(len(dff_tp)-14) :\n",
    "        inc = dec = 0\n",
    "        for k in range(j,j+14) :\n",
    "            if dff_tp[k] > 0 : inc += mf[k]\n",
    "            elif dff_tp[k] < 0 : dec += mf[k]\n",
    "        if dec == 0 :\n",
    "            MFI.append(50)        \n",
    "        else : MFI.append(100 - 100/(1 + inc/dec))\n",
    "            \n",
    "data['MFI'] = MFI\n",
    "data = data.drop(['MF','TP_dff'],axis=1)"
   ]
  },
  {
   "cell_type": "markdown",
   "metadata": {},
   "source": [
    "##### X8 : CCI"
   ]
  },
  {
   "cell_type": "code",
   "execution_count": 123,
   "metadata": {},
   "outputs": [],
   "source": [
    "### CCI 지수\n",
    "\n",
    "## TP이평선 및 차이 절댓값 계산\n",
    "data['m'] = MA(15,'TP')\n",
    "data['d'] = abs(data['TP'] - data['m'])\n",
    "data['d'] = MA(15,'d')\n",
    "\n",
    "## CCI 계산\n",
    "data['CCI'] = (data['TP'] - data['m'])/(0.015 * data['d'])\n",
    "data = data.drop(['m','d','TP'], axis = 1)"
   ]
  },
  {
   "cell_type": "markdown",
   "metadata": {},
   "source": [
    "### 2. Data Export"
   ]
  },
  {
   "cell_type": "code",
   "execution_count": 129,
   "metadata": {},
   "outputs": [],
   "source": [
    "data.to_csv(\"C:/Users/kyt28/OneDrive/바탕 화면/submit_data/phase2_data.csv\", index=False, encoding=\"utf-8-sig\")"
   ]
  },
  {
   "cell_type": "markdown",
   "metadata": {},
   "source": [
    "---------------------------------------------------------------------------------------------------------------------------------------------------------------------"
   ]
  },
  {
   "cell_type": "markdown",
   "metadata": {},
   "source": [
    "## Phase 3. Stock Except Decision\n",
    ": Phase 3는 분석 대상 중에서 먼저, 다양한 지표들을 활용하여 강력한 Long signal 또는 Short signal에 따라 미리 포트폴리오에 순위를 지정하는 작업이다\n",
    "- Long : 최근 5영업일 ~ 10영업일에 대해 Long포지션에 맞는 다양한 지수로 포트폴리오에 미리 선정하는 작업\n",
    "- Short : 최근 5영업일 ~ 10영업일에 대해 Short포지션에 맞는 다양한 지수로 포트폴리오에 미리 선정하는 작업"
   ]
  },
  {
   "cell_type": "markdown",
   "metadata": {},
   "source": [
    "### 1. Data Import"
   ]
  },
  {
   "cell_type": "code",
   "execution_count": 155,
   "metadata": {},
   "outputs": [],
   "source": [
    "### data import\n",
    "data = pd.read_csv(\"C:/Users/kyt28/OneDrive/바탕 화면/submit_data/phase2_data.csv\", low_memory = False)\n",
    "\n",
    "## 불필요한 변수 제거\n",
    "data = data.drop(['저가','고가','외국인','기타외국인','시가총액','연기금','상장주식수'],axis=1)"
   ]
  },
  {
   "cell_type": "markdown",
   "metadata": {},
   "source": [
    "### 2. Exception Decision"
   ]
  },
  {
   "cell_type": "markdown",
   "metadata": {},
   "source": [
    "##### 2-0. 거래정지종목 : private 기간 중 마지막 영업일 (2023년 7월 28일)에 정지된 종목"
   ]
  },
  {
   "cell_type": "code",
   "execution_count": 156,
   "metadata": {},
   "outputs": [
    {
     "name": "stdout",
     "output_type": "stream",
     "text": [
      "거래정지 종목코드 개수 : 5\n",
      "거래정지 종목코드 : ['A001340', 'A047820', 'A048260', 'A052670', 'A102280']\n"
     ]
    }
   ],
   "source": [
    "### 거래정지 종목\n",
    "\n",
    "## 거래정지 종목 추출\n",
    "excep0_code = data[(data['날짜'] == '2023-07-28') & (data['거래량'] == 0)]['종목코드'].tolist()\n",
    "print('거래정지 종목코드 개수 :',len(excep0_code))\n",
    "print('거래정지 종목코드 :',excep0_code)\n",
    "\n",
    "## 거래정지 종목 제외\n",
    "data = data[~data['종목코드'].isin(excep0_code)]\n",
    "\n",
    "## unique 종목코드 추출\n",
    "code = data['종목코드'].unique().tolist()"
   ]
  },
  {
   "cell_type": "markdown",
   "metadata": {},
   "source": [
    "##### 2-1. RSI & MACD \n",
    "- Long = 5영업일 내에 RSI지수가 30이하에서 30이상으로 돌파하고 MACD선이 signal선 상향 돌파 후 유지\n",
    "- Short = 5영업일 내에 RSI지수가 70이상에서 70이하로 돌파하고 MACD선이 signal선 하향 돌파 후 유지"
   ]
  },
  {
   "cell_type": "code",
   "execution_count": 157,
   "metadata": {},
   "outputs": [
    {
     "data": {
      "text/plain": [
       "6.0"
      ]
     },
     "execution_count": 157,
     "metadata": {},
     "output_type": "execute_result"
    }
   ],
   "source": [
    "### RSI & MACD \n",
    "\n",
    "## base setting\n",
    "new_data = data[data['날짜'] >= '2023-07-21']\n",
    "len(new_data)/1954"
   ]
  },
  {
   "cell_type": "code",
   "execution_count": 158,
   "metadata": {},
   "outputs": [
    {
     "name": "stdout",
     "output_type": "stream",
     "text": [
      "['A003060', 'A005180', 'A011330', 'A040420', 'A078140', 'A156100', 'A214450', 'A241820', 'A243070', 'A246710'] \n",
      " 10\n"
     ]
    }
   ],
   "source": [
    "## Long\n",
    "excep1_long = []\n",
    "\n",
    "for c in code :\n",
    "    dt = new_data[new_data['종목코드'] == c].reset_index(drop=True)\n",
    "    \n",
    "    cnt = 0\n",
    "    for i in range(1,5) :\n",
    "        if (dt['MACD'][i] < dt['MACDsignal'][i]) & (sum(dt['MACD'][(i+1):] > dt['MACDsignal'][(i+1):]) == 5-i) : cnt += 1\n",
    "            \n",
    "    if (np.sum(dt['RSI'][0] <= 30) == 1) & (np.sum(dt['RSI'][1:] > 30) == 5) & (cnt >= 1) :\n",
    "        excep1_long.append(c)\n",
    "        \n",
    "print(excep1_long,'\\n',len(excep1_long))"
   ]
  },
  {
   "cell_type": "code",
   "execution_count": 159,
   "metadata": {},
   "outputs": [
    {
     "name": "stdout",
     "output_type": "stream",
     "text": [
      "['A001470', 'A002200', 'A059090', 'A158430', 'A200710', 'A211050', 'A262260', 'A321260'] \n",
      " 8\n"
     ]
    }
   ],
   "source": [
    "## Short\n",
    "excep1_short = []\n",
    "\n",
    "for c in code :\n",
    "    dt = new_data[new_data['종목코드'] == c].reset_index(drop=True)\n",
    "    \n",
    "    cnt = 0\n",
    "    for i in range(1,5) :\n",
    "        if (dt['MACD'][i] > dt['MACDsignal'][i]) & (sum(dt['MACD'][(i+1):] < dt['MACDsignal'][(i+1):]) == 5-i) : cnt += 1\n",
    "            \n",
    "    if (np.sum(dt['RSI'][0] >= 70) == 1) & (np.sum(dt['RSI'][1:] < 70) == 5) & (cnt >= 1) :\n",
    "        excep1_short.append(c)\n",
    "        \n",
    "print(excep1_short,'\\n',len(excep1_short))"
   ]
  },
  {
   "cell_type": "markdown",
   "metadata": {},
   "source": [
    "##### 2-2. MFI \n",
    "- Long = 5일 간 80 이하였다가 5일 동안 80 이상 유지\n",
    "- Short = 5일간 20 이상이었다가 5일 동안 20 이하 유지"
   ]
  },
  {
   "cell_type": "code",
   "execution_count": 162,
   "metadata": {},
   "outputs": [
    {
     "data": {
      "text/plain": [
       "10.0"
      ]
     },
     "execution_count": 162,
     "metadata": {},
     "output_type": "execute_result"
    }
   ],
   "source": [
    "### MFI\n",
    "\n",
    "## base setting\n",
    "new_data = data[data['날짜'] >= '2023-07-17']\n",
    "len(new_data)/1954"
   ]
  },
  {
   "cell_type": "code",
   "execution_count": 163,
   "metadata": {},
   "outputs": [
    {
     "name": "stdout",
     "output_type": "stream",
     "text": [
      "['A007460', 'A109960', 'A131030'] \n",
      " 3\n"
     ]
    }
   ],
   "source": [
    "## Long\n",
    "excep2_long = []\n",
    "\n",
    "for c in code :\n",
    "    dt = new_data[new_data['종목코드'] == c].reset_index(drop=True)\n",
    "\n",
    "    if (sum(dt['MFI'][:5] <= 80) + sum(dt['MFI'][5:] > 80)) == 10 :\n",
    "        excep2_long.append(c)\n",
    "        \n",
    "print(excep2_long,'\\n',len(excep2_long))"
   ]
  },
  {
   "cell_type": "code",
   "execution_count": 166,
   "metadata": {},
   "outputs": [
    {
     "name": "stdout",
     "output_type": "stream",
     "text": [
      "['A001520', 'A002450', 'A004060', 'A005670', 'A005680', 'A009160', 'A010280', 'A012610', 'A013720', 'A015860', 'A033130', 'A037460', 'A037760', 'A042370', 'A045520', 'A045660', 'A054800', 'A056700', 'A066130', 'A067990', 'A079430', 'A080580', 'A085810', 'A089150', 'A099440', 'A100660', 'A119850', 'A148250', 'A153460', 'A187270', 'A263020', 'A290120'] \n",
      " 32\n"
     ]
    }
   ],
   "source": [
    "## short\n",
    "excep2_short = []\n",
    "\n",
    "for c in code :\n",
    "    dt = new_data[new_data['종목코드'] == c].reset_index(drop=True)\n",
    "\n",
    "    if (sum(dt['MFI'][:5] >= 20) + sum(dt['MFI'][5:] < 20)) == 10 :\n",
    "        excep2_short.append(c)\n",
    "        \n",
    "print(excep2_short,'\\n',len(excep2_short))"
   ]
  },
  {
   "cell_type": "markdown",
   "metadata": {},
   "source": [
    "##### 2-3. 볼린저밴드\n",
    "- Long : 5영업일 내에 Normal에서 HighTouch로 변경되고 유지한 경우\n",
    "- Short : 5영업일 내에 Normal에서 LowTouch로 변경되고 유지한 경우"
   ]
  },
  {
   "cell_type": "code",
   "execution_count": 167,
   "metadata": {},
   "outputs": [
    {
     "data": {
      "text/plain": [
       "6.0"
      ]
     },
     "execution_count": 167,
     "metadata": {},
     "output_type": "execute_result"
    }
   ],
   "source": [
    "### 볼린저밴드\n",
    "\n",
    "## base setting\n",
    "new_data = data[data['날짜'] >= '2023-07-21']\n",
    "len(new_data)/1954"
   ]
  },
  {
   "cell_type": "code",
   "execution_count": 168,
   "metadata": {},
   "outputs": [
    {
     "name": "stdout",
     "output_type": "stream",
     "text": [
      "['A078140'] \n",
      " 1\n"
     ]
    }
   ],
   "source": [
    "## Long\n",
    "excep3_long = []\n",
    "\n",
    "for c in code :\n",
    "    dt = new_data[new_data['종목코드'] == c].reset_index(drop=True)\n",
    "    \n",
    "    for i in range(1,4) :\n",
    "        if (sum(dt['bollinger'][i:] == \"HighTouch\") == 6-i) & (sum(dt['bollinger'][:i] == \"Normal\") == i) :\n",
    "            excep3_long.append(c)\n",
    "        \n",
    "print(excep3_long,'\\n',len(excep3_long))"
   ]
  },
  {
   "cell_type": "code",
   "execution_count": 169,
   "metadata": {},
   "outputs": [
    {
     "name": "stdout",
     "output_type": "stream",
     "text": [
      "['A003800', 'A078000', 'A107590', 'A290670'] \n",
      " 4\n"
     ]
    }
   ],
   "source": [
    "## Short\n",
    "excep3_short = []\n",
    "\n",
    "for c in code :\n",
    "    dt = new_data[new_data['종목코드'] == c].reset_index(drop=True)\n",
    "    \n",
    "    for i in range(1,4) :\n",
    "        if (sum(dt['bollinger'][i:] == \"LowTouch\") == 6-i) & (sum(dt['bollinger'][:i] == \"Normal\") == i) :\n",
    "            excep3_short.append(c)\n",
    "        \n",
    "print(excep3_short,'\\n',len(excep3_short))"
   ]
  },
  {
   "cell_type": "markdown",
   "metadata": {},
   "source": [
    "##### 2-4. CCI \n",
    "- Long = 5영업일 전부터 3일 이상 100이하였다가 100을 돌파 후 유지인 경우\n",
    "- Short = 5영업일 전부터 3일 이상 -100이상이었다가 -100 이하 돌파 후 유지인 경우"
   ]
  },
  {
   "cell_type": "code",
   "execution_count": 170,
   "metadata": {},
   "outputs": [
    {
     "data": {
      "text/plain": [
       "6.0"
      ]
     },
     "execution_count": 170,
     "metadata": {},
     "output_type": "execute_result"
    }
   ],
   "source": [
    "### CCI\n",
    "\n",
    "## base setting\n",
    "new_data = data[data['날짜'] >= '2023-07-21']\n",
    "len(new_data)/1954"
   ]
  },
  {
   "cell_type": "code",
   "execution_count": 171,
   "metadata": {},
   "outputs": [
    {
     "name": "stdout",
     "output_type": "stream",
     "text": [
      "['A009730', 'A011330', 'A031980', 'A078140', 'A105560', 'A134380'] \n",
      " 6\n"
     ]
    }
   ],
   "source": [
    "## Long\n",
    "excep4_long = []\n",
    "\n",
    "for c in code :\n",
    "    dt = new_data[new_data['종목코드'] == c].reset_index(drop=True)\n",
    "    \n",
    "    if (sum(dt['CCI'][:3] <= 100) == 3) & (sum(dt['CCI'][3:] > 100) == 3) :\n",
    "        excep4_long.append(c)\n",
    "            \n",
    "print(excep4_long,'\\n',len(excep4_long))"
   ]
  },
  {
   "cell_type": "code",
   "execution_count": 172,
   "metadata": {},
   "outputs": [
    {
     "name": "stdout",
     "output_type": "stream",
     "text": [
      "['A000390', 'A000440', 'A001550', 'A002140', 'A003120', 'A003310', 'A004250', 'A006390', 'A007690', 'A007860', 'A008260', 'A009470', 'A010170', 'A010960', 'A011700', 'A012320', 'A013700', 'A014830', 'A018620', 'A019210', 'A019660', 'A023450', 'A025860', 'A025880', 'A027360', 'A030190', 'A034310', 'A037710', 'A038110', 'A041960', 'A043910', 'A048530', 'A049770', 'A051630', 'A053280', 'A053690', 'A053950', 'A060150', 'A060280', 'A064090', 'A064520', 'A065710', 'A067630', 'A078890', 'A083420', 'A091340', 'A092200', 'A092230', 'A093640', 'A107590', 'A108380', 'A108490', 'A120110', 'A131400', 'A140520', 'A142210', 'A170790', 'A195990', 'A196300', 'A203450', 'A219550', 'A221980', 'A222080', 'A241520', 'A256940', 'A290670', 'A297090', 'A298000', 'A317400', 'A317690', 'A322000', 'A330350', 'A336260', 'A348030', 'A348150'] \n",
      " 75\n"
     ]
    }
   ],
   "source": [
    "## Short\n",
    "excep4_short = []\n",
    "\n",
    "for c in code :\n",
    "    dt = new_data[new_data['종목코드'] == c].reset_index(drop=True)\n",
    "\n",
    "    if (sum(dt['CCI'][:3] >= -100) == 3) & (sum(dt['CCI'][3:] < -100) == 3) :\n",
    "        excep4_short.append(c)\n",
    "\n",
    "print(excep4_short,'\\n',len(excep4_short))"
   ]
  },
  {
   "cell_type": "markdown",
   "metadata": {},
   "source": [
    "##### 2-5. MA \n",
    "- Long = 3영업일 동안 15이평선이 60이평선 아래 & 이후 3영업일 동안 15이평선이 60이평선 위\n",
    "- Short = 3영업일 동안 15이평선이 60이평선 위 & 이후 3영업일 동안 15이평선이 60이평선 아래"
   ]
  },
  {
   "cell_type": "code",
   "execution_count": 173,
   "metadata": {},
   "outputs": [
    {
     "data": {
      "text/plain": [
       "6.0"
      ]
     },
     "execution_count": 173,
     "metadata": {},
     "output_type": "execute_result"
    }
   ],
   "source": [
    "### MA\n",
    "\n",
    "## base setting\n",
    "new_data = data[data['날짜'] >= '2023-07-21']\n",
    "len(new_data)/1954"
   ]
  },
  {
   "cell_type": "code",
   "execution_count": 174,
   "metadata": {},
   "outputs": [
    {
     "name": "stdout",
     "output_type": "stream",
     "text": [
      "['A267250', 'A300080'] \n",
      " 2\n"
     ]
    }
   ],
   "source": [
    "## Long\n",
    "excep5_long = []\n",
    "\n",
    "for c in code :\n",
    "    dt = new_data[new_data['종목코드'] == c].reset_index(drop=True)\n",
    "\n",
    "    if (sum(dt['MA15'][:3] <= dt['MA60'][:3]) == 3) & (sum(dt['MA15'][3:] > dt['MA60'][3:]) == 3) :\n",
    "        excep5_long.append(c)\n",
    "\n",
    "print(excep5_long,'\\n',len(excep5_long))"
   ]
  },
  {
   "cell_type": "code",
   "execution_count": 175,
   "metadata": {},
   "outputs": [
    {
     "name": "stdout",
     "output_type": "stream",
     "text": [
      "['A002150', 'A002900', 'A004710', 'A006880', 'A009680', 'A010580', 'A011790', 'A019770', 'A021820', 'A023800', 'A024910', 'A025540', 'A032560', 'A036030', 'A036170', 'A037330', 'A041830', 'A043260', 'A047810', 'A051370', 'A051380', 'A052460', 'A054050', 'A057680', 'A058730', 'A059120', 'A060980', 'A071090', 'A072470', 'A086390', 'A091700', 'A126640', 'A126880', 'A128820', 'A129260', 'A142210', 'A153490', 'A171120', 'A180640', 'A192400', 'A214420', 'A214680', 'A220180', 'A245620', 'A298050', 'A307280', 'A309930', 'A310200', 'A311390', 'A352480'] \n",
      " 50\n"
     ]
    }
   ],
   "source": [
    "## Short\n",
    "excep5_short = []\n",
    "\n",
    "for c in code :\n",
    "    dt = new_data[new_data['종목코드'] == c].reset_index(drop=True)\n",
    "\n",
    "    if (sum(dt['MA15'][:3] >= dt['MA60'][:3]) == 3) & (sum(dt['MA15'][3:] < dt['MA60'][3:]) == 3) :\n",
    "        excep5_short.append(c)\n",
    "\n",
    "print(excep5_short,'\\n',len(excep5_short))"
   ]
  },
  {
   "cell_type": "markdown",
   "metadata": {},
   "source": [
    "##### 2-6. 외국인 \n",
    "- Long = 10영업일 동안 꾸준하게 외인 매수\n",
    "- Short = 10영업일 동안 꾸준하게 외인 매도"
   ]
  },
  {
   "cell_type": "code",
   "execution_count": 176,
   "metadata": {},
   "outputs": [
    {
     "data": {
      "text/plain": [
       "10.0"
      ]
     },
     "execution_count": 176,
     "metadata": {},
     "output_type": "execute_result"
    }
   ],
   "source": [
    "### 외국인\n",
    "\n",
    "## base setting\n",
    "new_data = data[data['날짜'] >= '2023-07-17']\n",
    "len(new_data)/1954"
   ]
  },
  {
   "cell_type": "code",
   "execution_count": 177,
   "metadata": {},
   "outputs": [
    {
     "name": "stdout",
     "output_type": "stream",
     "text": [
      "['A002030', 'A003410', 'A004170', 'A005940', 'A009780', 'A032580', 'A034950', 'A037710', 'A081660', 'A084370', 'A263810', 'A294140'] \n",
      " 12\n"
     ]
    }
   ],
   "source": [
    "## Long\n",
    "excep6_long = []\n",
    "\n",
    "for c in code :\n",
    "    dt = new_data[new_data['종목코드'] == c].reset_index(drop=True)\n",
    "        \n",
    "    if sum(dt['외국인총합'] > 0) == 10 :\n",
    "        excep6_long.append(c)\n",
    "\n",
    "print(excep6_long,'\\n',len(excep6_long))"
   ]
  },
  {
   "cell_type": "code",
   "execution_count": 178,
   "metadata": {},
   "outputs": [
    {
     "name": "stdout",
     "output_type": "stream",
     "text": [
      "['A001290', 'A004780', 'A005490', 'A005710', 'A005990', 'A008370', 'A018120', 'A020000', 'A021650', 'A021820', 'A024830', 'A025000', 'A029780', 'A030000', 'A031510', 'A034220', 'A034310', 'A034590', 'A036670', 'A038390', 'A039570', 'A044820', 'A045060', 'A049120', 'A064850', 'A066620', 'A067830', 'A078070', 'A217730', 'A260970'] \n",
      " 30\n"
     ]
    }
   ],
   "source": [
    "## Short\n",
    "excep6_short = []\n",
    "\n",
    "for c in code :\n",
    "    dt = new_data[new_data['종목코드'] == c].reset_index(drop=True)\n",
    "        \n",
    "    if sum(dt['외국인총합'] < 0) == 10 :\n",
    "        excep6_short.append(c)\n",
    "\n",
    "print(excep6_short,'\\n',len(excep6_short))"
   ]
  },
  {
   "cell_type": "markdown",
   "metadata": {},
   "source": [
    "### 3. Data Export"
   ]
  },
  {
   "cell_type": "code",
   "execution_count": 237,
   "metadata": {},
   "outputs": [
    {
     "name": "stdout",
     "output_type": "stream",
     "text": [
      "제외된 변수 갯수 : 229\n"
     ]
    }
   ],
   "source": [
    "### Long, Short 포트폴리오에 지정될 변수들을 제외하고 모델에 사용할 데이터 export\n",
    "\n",
    "## 제외변수 통합\n",
    "except_code = excep1_long + excep2_long + excep3_long + excep4_long + excep5_long + excep6_long + excep1_short + excep2_short + excep3_short + excep4_short + excep5_short + excep6_short + excep0_code\n",
    "except_code = list(set(except_code))\n",
    "print('제외된 변수 갯수 :',len(except_code))\n",
    "\n",
    "## data export\n",
    "data = data[~data.종목코드.isin(except_code)].reset_index(drop=True)\n",
    "data.to_csv(\"C:/Users/kyt28/OneDrive/바탕 화면/submit_data/phase3_data.csv\", index=False, encoding=\"utf-8-sig\")"
   ]
  },
  {
   "cell_type": "markdown",
   "metadata": {},
   "source": [
    "### 4. Long, Short Portfolio\n",
    "- 앞서, 선정된 Long과 Short에 속한 주식들을 미리 포트폴리오에 선정\n",
    "- 숫자는 포트폴리오 선정의 중요도를 뜻함 (ex. 외국인은 MA보다 중요함)"
   ]
  },
  {
   "cell_type": "code",
   "execution_count": 190,
   "metadata": {},
   "outputs": [
    {
     "name": "stdout",
     "output_type": "stream",
     "text": [
      "Long Position 갯수 : 31 \n",
      "\n",
      "Short Position 갯수 : 194 \n",
      "\n",
      "중복 Position 종목 : ['A037710'] \n",
      "\n",
      "중복 종목코드 Position : ['excep6_long']\n",
      "중복 종목코드 Position : ['excep4_short']\n"
     ]
    }
   ],
   "source": [
    "### Position\n",
    "\n",
    "## Long\n",
    "long = set(excep1_long + excep2_long + excep3_long + excep4_long + excep5_long + excep6_long)\n",
    "print('Long Position 갯수 :',len(long),'\\n')\n",
    "\n",
    "## Short\n",
    "short = set(excep1_short + excep2_short + excep3_short + excep4_short + excep5_short + excep6_short)\n",
    "print('Short Position 갯수 :',len(short),'\\n')\n",
    "\n",
    "## Intersection : 어느 파트에서 겹쳐졌는지 확인\n",
    "same_code = list(short.intersection(long))\n",
    "print('중복 Position 종목 :',same_code,'\\n')\n",
    "\n",
    "long_same = []\n",
    "short_same = []\n",
    "for c in same_code :\n",
    "    for i in range(1,7) :\n",
    "        if c in globals()['excep{}_long'.format(i)] :\n",
    "            long_same.append('excep'+str(i)+'_long')\n",
    "        if c in globals()['excep{}_short'.format(i)] :\n",
    "            short_same.append('excep'+str(i)+'_short')    \n",
    "\n",
    "print('중복 종목코드 Position :',long_same)\n",
    "print('중복 종목코드 Position :',short_same)"
   ]
  },
  {
   "cell_type": "code",
   "execution_count": 191,
   "metadata": {},
   "outputs": [],
   "source": [
    "## 중복된 경우, 중요도에 의해서 선정\n",
    "short.remove('A037710')"
   ]
  },
  {
   "cell_type": "markdown",
   "metadata": {},
   "source": [
    "##### 4-1. Long, Short Portfolio Rank"
   ]
  },
  {
   "cell_type": "code",
   "execution_count": 229,
   "metadata": {},
   "outputs": [
    {
     "data": {
      "text/html": [
       "<div>\n",
       "<style scoped>\n",
       "    .dataframe tbody tr th:only-of-type {\n",
       "        vertical-align: middle;\n",
       "    }\n",
       "\n",
       "    .dataframe tbody tr th {\n",
       "        vertical-align: top;\n",
       "    }\n",
       "\n",
       "    .dataframe thead th {\n",
       "        text-align: right;\n",
       "    }\n",
       "</style>\n",
       "<table border=\"1\" class=\"dataframe\">\n",
       "  <thead>\n",
       "    <tr style=\"text-align: right;\">\n",
       "      <th></th>\n",
       "      <th>종목코드</th>\n",
       "      <th>순위</th>\n",
       "    </tr>\n",
       "  </thead>\n",
       "  <tbody>\n",
       "    <tr>\n",
       "      <th>0</th>\n",
       "      <td>A084370</td>\n",
       "      <td>1</td>\n",
       "    </tr>\n",
       "    <tr>\n",
       "      <th>1</th>\n",
       "      <td>A031980</td>\n",
       "      <td>2</td>\n",
       "    </tr>\n",
       "    <tr>\n",
       "      <th>2</th>\n",
       "      <td>A037710</td>\n",
       "      <td>3</td>\n",
       "    </tr>\n",
       "    <tr>\n",
       "      <th>3</th>\n",
       "      <td>A009730</td>\n",
       "      <td>4</td>\n",
       "    </tr>\n",
       "    <tr>\n",
       "      <th>4</th>\n",
       "      <td>A003060</td>\n",
       "      <td>5</td>\n",
       "    </tr>\n",
       "    <tr>\n",
       "      <th>...</th>\n",
       "      <td>...</td>\n",
       "      <td>...</td>\n",
       "    </tr>\n",
       "    <tr>\n",
       "      <th>219</th>\n",
       "      <td>A024830</td>\n",
       "      <td>1996</td>\n",
       "    </tr>\n",
       "    <tr>\n",
       "      <th>220</th>\n",
       "      <td>A039570</td>\n",
       "      <td>1997</td>\n",
       "    </tr>\n",
       "    <tr>\n",
       "      <th>221</th>\n",
       "      <td>A006880</td>\n",
       "      <td>1998</td>\n",
       "    </tr>\n",
       "    <tr>\n",
       "      <th>222</th>\n",
       "      <td>A219550</td>\n",
       "      <td>1999</td>\n",
       "    </tr>\n",
       "    <tr>\n",
       "      <th>223</th>\n",
       "      <td>A005710</td>\n",
       "      <td>2000</td>\n",
       "    </tr>\n",
       "  </tbody>\n",
       "</table>\n",
       "<p>224 rows × 2 columns</p>\n",
       "</div>"
      ],
      "text/plain": [
       "        종목코드    순위\n",
       "0    A084370     1\n",
       "1    A031980     2\n",
       "2    A037710     3\n",
       "3    A009730     4\n",
       "4    A003060     5\n",
       "..       ...   ...\n",
       "219  A024830  1996\n",
       "220  A039570  1997\n",
       "221  A006880  1998\n",
       "222  A219550  1999\n",
       "223  A005710  2000\n",
       "\n",
       "[224 rows x 2 columns]"
      ]
     },
     "execution_count": 229,
     "metadata": {},
     "output_type": "execute_result"
    }
   ],
   "source": [
    "### Rank\n",
    "\n",
    "## Long Position : 1 ~\n",
    "l = pd.DataFrame(set(long))\n",
    "l.columns = ['종목코드']\n",
    "\n",
    "rank = []\n",
    "for i in range(len(l)) :\n",
    "    rank.append(i+1)\n",
    "    \n",
    "l['순위'] = rank\n",
    "\n",
    "## Short Position : ~ 2000\n",
    "s = pd.DataFrame(set(short))\n",
    "s.columns = ['종목코드']\n",
    "\n",
    "rank = []\n",
    "for i in range(len(s),0,-1) :\n",
    "    rank.append(2000-i+1)\n",
    "    \n",
    "s['순위'] = rank\n",
    "\n",
    "## concat\n",
    "portfolio = pd.concat([l,s],axis = 0)\n",
    "portfolio = portfolio.reset_index(drop=True)\n",
    "portfolio"
   ]
  },
  {
   "cell_type": "markdown",
   "metadata": {},
   "source": [
    "##### 4-2. Exception code Portfolio Rank"
   ]
  },
  {
   "cell_type": "code",
   "execution_count": 230,
   "metadata": {},
   "outputs": [
    {
     "data": {
      "text/html": [
       "<div>\n",
       "<style scoped>\n",
       "    .dataframe tbody tr th:only-of-type {\n",
       "        vertical-align: middle;\n",
       "    }\n",
       "\n",
       "    .dataframe tbody tr th {\n",
       "        vertical-align: top;\n",
       "    }\n",
       "\n",
       "    .dataframe thead th {\n",
       "        text-align: right;\n",
       "    }\n",
       "</style>\n",
       "<table border=\"1\" class=\"dataframe\">\n",
       "  <thead>\n",
       "    <tr style=\"text-align: right;\">\n",
       "      <th></th>\n",
       "      <th>종목코드</th>\n",
       "      <th>순위</th>\n",
       "    </tr>\n",
       "  </thead>\n",
       "  <tbody>\n",
       "    <tr>\n",
       "      <th>0</th>\n",
       "      <td>A047820</td>\n",
       "      <td>1755.0</td>\n",
       "    </tr>\n",
       "    <tr>\n",
       "      <th>1</th>\n",
       "      <td>A102280</td>\n",
       "      <td>1756.0</td>\n",
       "    </tr>\n",
       "    <tr>\n",
       "      <th>2</th>\n",
       "      <td>A001340</td>\n",
       "      <td>1757.0</td>\n",
       "    </tr>\n",
       "    <tr>\n",
       "      <th>3</th>\n",
       "      <td>A048260</td>\n",
       "      <td>1758.0</td>\n",
       "    </tr>\n",
       "    <tr>\n",
       "      <th>4</th>\n",
       "      <td>A052670</td>\n",
       "      <td>1759.0</td>\n",
       "    </tr>\n",
       "    <tr>\n",
       "      <th>5</th>\n",
       "      <td>A003560</td>\n",
       "      <td>1760.0</td>\n",
       "    </tr>\n",
       "    <tr>\n",
       "      <th>6</th>\n",
       "      <td>A006580</td>\n",
       "      <td>1761.0</td>\n",
       "    </tr>\n",
       "    <tr>\n",
       "      <th>7</th>\n",
       "      <td>A007610</td>\n",
       "      <td>1762.0</td>\n",
       "    </tr>\n",
       "    <tr>\n",
       "      <th>8</th>\n",
       "      <td>A012600</td>\n",
       "      <td>1763.0</td>\n",
       "    </tr>\n",
       "    <tr>\n",
       "      <th>9</th>\n",
       "      <td>A014200</td>\n",
       "      <td>1764.0</td>\n",
       "    </tr>\n",
       "    <tr>\n",
       "      <th>10</th>\n",
       "      <td>A015540</td>\n",
       "      <td>1765.0</td>\n",
       "    </tr>\n",
       "    <tr>\n",
       "      <th>11</th>\n",
       "      <td>A024810</td>\n",
       "      <td>1766.0</td>\n",
       "    </tr>\n",
       "    <tr>\n",
       "      <th>12</th>\n",
       "      <td>A032860</td>\n",
       "      <td>1767.0</td>\n",
       "    </tr>\n",
       "    <tr>\n",
       "      <th>13</th>\n",
       "      <td>A033180</td>\n",
       "      <td>1768.0</td>\n",
       "    </tr>\n",
       "    <tr>\n",
       "      <th>14</th>\n",
       "      <td>A033340</td>\n",
       "      <td>1769.0</td>\n",
       "    </tr>\n",
       "    <tr>\n",
       "      <th>15</th>\n",
       "      <td>A044060</td>\n",
       "      <td>1770.0</td>\n",
       "    </tr>\n",
       "    <tr>\n",
       "      <th>16</th>\n",
       "      <td>A053590</td>\n",
       "      <td>1771.0</td>\n",
       "    </tr>\n",
       "    <tr>\n",
       "      <th>17</th>\n",
       "      <td>A056090</td>\n",
       "      <td>1772.0</td>\n",
       "    </tr>\n",
       "    <tr>\n",
       "      <th>18</th>\n",
       "      <td>A057880</td>\n",
       "      <td>1773.0</td>\n",
       "    </tr>\n",
       "    <tr>\n",
       "      <th>19</th>\n",
       "      <td>A062860</td>\n",
       "      <td>1774.0</td>\n",
       "    </tr>\n",
       "    <tr>\n",
       "      <th>20</th>\n",
       "      <td>A065560</td>\n",
       "      <td>1775.0</td>\n",
       "    </tr>\n",
       "    <tr>\n",
       "      <th>21</th>\n",
       "      <td>A066410</td>\n",
       "      <td>1776.0</td>\n",
       "    </tr>\n",
       "    <tr>\n",
       "      <th>22</th>\n",
       "      <td>A069110</td>\n",
       "      <td>1777.0</td>\n",
       "    </tr>\n",
       "    <tr>\n",
       "      <th>23</th>\n",
       "      <td>A078130</td>\n",
       "      <td>1778.0</td>\n",
       "    </tr>\n",
       "    <tr>\n",
       "      <th>24</th>\n",
       "      <td>A078590</td>\n",
       "      <td>1779.0</td>\n",
       "    </tr>\n",
       "    <tr>\n",
       "      <th>25</th>\n",
       "      <td>A091090</td>\n",
       "      <td>1780.0</td>\n",
       "    </tr>\n",
       "    <tr>\n",
       "      <th>26</th>\n",
       "      <td>A093230</td>\n",
       "      <td>1781.0</td>\n",
       "    </tr>\n",
       "    <tr>\n",
       "      <th>27</th>\n",
       "      <td>A096040</td>\n",
       "      <td>1782.0</td>\n",
       "    </tr>\n",
       "    <tr>\n",
       "      <th>28</th>\n",
       "      <td>A099520</td>\n",
       "      <td>1783.0</td>\n",
       "    </tr>\n",
       "    <tr>\n",
       "      <th>29</th>\n",
       "      <td>A101140</td>\n",
       "      <td>1784.0</td>\n",
       "    </tr>\n",
       "    <tr>\n",
       "      <th>30</th>\n",
       "      <td>A109070</td>\n",
       "      <td>1785.0</td>\n",
       "    </tr>\n",
       "    <tr>\n",
       "      <th>31</th>\n",
       "      <td>A121800</td>\n",
       "      <td>1786.0</td>\n",
       "    </tr>\n",
       "    <tr>\n",
       "      <th>32</th>\n",
       "      <td>A136510</td>\n",
       "      <td>1787.0</td>\n",
       "    </tr>\n",
       "    <tr>\n",
       "      <th>33</th>\n",
       "      <td>A150840</td>\n",
       "      <td>1788.0</td>\n",
       "    </tr>\n",
       "    <tr>\n",
       "      <th>34</th>\n",
       "      <td>A160600</td>\n",
       "      <td>1789.0</td>\n",
       "    </tr>\n",
       "    <tr>\n",
       "      <th>35</th>\n",
       "      <td>A178780</td>\n",
       "      <td>1790.0</td>\n",
       "    </tr>\n",
       "    <tr>\n",
       "      <th>36</th>\n",
       "      <td>A181340</td>\n",
       "      <td>1791.0</td>\n",
       "    </tr>\n",
       "    <tr>\n",
       "      <th>37</th>\n",
       "      <td>A214870</td>\n",
       "      <td>1792.0</td>\n",
       "    </tr>\n",
       "    <tr>\n",
       "      <th>38</th>\n",
       "      <td>A215090</td>\n",
       "      <td>1793.0</td>\n",
       "    </tr>\n",
       "    <tr>\n",
       "      <th>39</th>\n",
       "      <td>A226440</td>\n",
       "      <td>1794.0</td>\n",
       "    </tr>\n",
       "    <tr>\n",
       "      <th>40</th>\n",
       "      <td>A257370</td>\n",
       "      <td>1795.0</td>\n",
       "    </tr>\n",
       "    <tr>\n",
       "      <th>41</th>\n",
       "      <td>A263540</td>\n",
       "      <td>1796.0</td>\n",
       "    </tr>\n",
       "    <tr>\n",
       "      <th>42</th>\n",
       "      <td>A268600</td>\n",
       "      <td>1797.0</td>\n",
       "    </tr>\n",
       "    <tr>\n",
       "      <th>43</th>\n",
       "      <td>A269620</td>\n",
       "      <td>1798.0</td>\n",
       "    </tr>\n",
       "    <tr>\n",
       "      <th>44</th>\n",
       "      <td>A290380</td>\n",
       "      <td>1799.0</td>\n",
       "    </tr>\n",
       "    <tr>\n",
       "      <th>45</th>\n",
       "      <td>A318020</td>\n",
       "      <td>1800.0</td>\n",
       "    </tr>\n",
       "  </tbody>\n",
       "</table>\n",
       "</div>"
      ],
      "text/plain": [
       "       종목코드      순위\n",
       "0   A047820  1755.0\n",
       "1   A102280  1756.0\n",
       "2   A001340  1757.0\n",
       "3   A048260  1758.0\n",
       "4   A052670  1759.0\n",
       "5   A003560  1760.0\n",
       "6   A006580  1761.0\n",
       "7   A007610  1762.0\n",
       "8   A012600  1763.0\n",
       "9   A014200  1764.0\n",
       "10  A015540  1765.0\n",
       "11  A024810  1766.0\n",
       "12  A032860  1767.0\n",
       "13  A033180  1768.0\n",
       "14  A033340  1769.0\n",
       "15  A044060  1770.0\n",
       "16  A053590  1771.0\n",
       "17  A056090  1772.0\n",
       "18  A057880  1773.0\n",
       "19  A062860  1774.0\n",
       "20  A065560  1775.0\n",
       "21  A066410  1776.0\n",
       "22  A069110  1777.0\n",
       "23  A078130  1778.0\n",
       "24  A078590  1779.0\n",
       "25  A091090  1780.0\n",
       "26  A093230  1781.0\n",
       "27  A096040  1782.0\n",
       "28  A099520  1783.0\n",
       "29  A101140  1784.0\n",
       "30  A109070  1785.0\n",
       "31  A121800  1786.0\n",
       "32  A136510  1787.0\n",
       "33  A150840  1788.0\n",
       "34  A160600  1789.0\n",
       "35  A178780  1790.0\n",
       "36  A181340  1791.0\n",
       "37  A214870  1792.0\n",
       "38  A215090  1793.0\n",
       "39  A226440  1794.0\n",
       "40  A257370  1795.0\n",
       "41  A263540  1796.0\n",
       "42  A268600  1797.0\n",
       "43  A269620  1798.0\n",
       "44  A290380  1799.0\n",
       "45  A318020  1800.0"
      ]
     },
     "execution_count": 230,
     "metadata": {},
     "output_type": "execute_result"
    }
   ],
   "source": [
    "## Exception code Position\n",
    "\n",
    "# Phase 3에서 제외한 excep_code\n",
    "excep_data1 = pd.DataFrame(set(excep0_code))\n",
    "excep_data1.columns = ['종목코드']\n",
    "\n",
    "# Phase 1에서 제외했던 error_rank 추출 후, concat\n",
    "excep_data2 = pd.read_csv(\"C:/Users/kyt28/OneDrive/바탕 화면/submit_data/phase1_result.csv\")\n",
    "first_rank = excep_data2['순위'][0]\n",
    "\n",
    "# data merge\n",
    "excep = pd.concat([excep_data1,excep_data2],axis=0).reset_index(drop=True)\n",
    "excep.loc[excep['순위'].isna(),'순위'] = [first_rank - i for i in range(len(excep0_code),0,-1)]\n",
    "excep"
   ]
  },
  {
   "cell_type": "markdown",
   "metadata": {},
   "source": [
    "##### 4-3. Portfolio Export"
   ]
  },
  {
   "cell_type": "code",
   "execution_count": 234,
   "metadata": {},
   "outputs": [
    {
     "data": {
      "text/html": [
       "<div>\n",
       "<style scoped>\n",
       "    .dataframe tbody tr th:only-of-type {\n",
       "        vertical-align: middle;\n",
       "    }\n",
       "\n",
       "    .dataframe tbody tr th {\n",
       "        vertical-align: top;\n",
       "    }\n",
       "\n",
       "    .dataframe thead th {\n",
       "        text-align: right;\n",
       "    }\n",
       "</style>\n",
       "<table border=\"1\" class=\"dataframe\">\n",
       "  <thead>\n",
       "    <tr style=\"text-align: right;\">\n",
       "      <th></th>\n",
       "      <th>종목코드</th>\n",
       "      <th>순위</th>\n",
       "    </tr>\n",
       "  </thead>\n",
       "  <tbody>\n",
       "    <tr>\n",
       "      <th>0</th>\n",
       "      <td>A084370</td>\n",
       "      <td>1.0</td>\n",
       "    </tr>\n",
       "    <tr>\n",
       "      <th>1</th>\n",
       "      <td>A031980</td>\n",
       "      <td>2.0</td>\n",
       "    </tr>\n",
       "    <tr>\n",
       "      <th>2</th>\n",
       "      <td>A037710</td>\n",
       "      <td>3.0</td>\n",
       "    </tr>\n",
       "    <tr>\n",
       "      <th>3</th>\n",
       "      <td>A009730</td>\n",
       "      <td>4.0</td>\n",
       "    </tr>\n",
       "    <tr>\n",
       "      <th>4</th>\n",
       "      <td>A003060</td>\n",
       "      <td>5.0</td>\n",
       "    </tr>\n",
       "    <tr>\n",
       "      <th>...</th>\n",
       "      <td>...</td>\n",
       "      <td>...</td>\n",
       "    </tr>\n",
       "    <tr>\n",
       "      <th>219</th>\n",
       "      <td>A024830</td>\n",
       "      <td>1996.0</td>\n",
       "    </tr>\n",
       "    <tr>\n",
       "      <th>220</th>\n",
       "      <td>A039570</td>\n",
       "      <td>1997.0</td>\n",
       "    </tr>\n",
       "    <tr>\n",
       "      <th>221</th>\n",
       "      <td>A006880</td>\n",
       "      <td>1998.0</td>\n",
       "    </tr>\n",
       "    <tr>\n",
       "      <th>222</th>\n",
       "      <td>A219550</td>\n",
       "      <td>1999.0</td>\n",
       "    </tr>\n",
       "    <tr>\n",
       "      <th>223</th>\n",
       "      <td>A005710</td>\n",
       "      <td>2000.0</td>\n",
       "    </tr>\n",
       "  </tbody>\n",
       "</table>\n",
       "<p>270 rows × 2 columns</p>\n",
       "</div>"
      ],
      "text/plain": [
       "        종목코드      순위\n",
       "0    A084370     1.0\n",
       "1    A031980     2.0\n",
       "2    A037710     3.0\n",
       "3    A009730     4.0\n",
       "4    A003060     5.0\n",
       "..       ...     ...\n",
       "219  A024830  1996.0\n",
       "220  A039570  1997.0\n",
       "221  A006880  1998.0\n",
       "222  A219550  1999.0\n",
       "223  A005710  2000.0\n",
       "\n",
       "[270 rows x 2 columns]"
      ]
     },
     "execution_count": 234,
     "metadata": {},
     "output_type": "execute_result"
    }
   ],
   "source": [
    "## portfolio Merge\n",
    "phase3_portfolio = pd.concat([portfolio,excep],axis=0).sort_values(by='순위')\n",
    "phase3_portfolio.to_csv(\"C:/Users/kyt28/OneDrive/바탕 화면/submit_data/phase3_result.csv\", index=False, encoding=\"utf-8-sig\")\n",
    "phase3_portfolio"
   ]
  },
  {
   "cell_type": "markdown",
   "metadata": {},
   "source": [
    "---------------------------------------------------------------------------------------------------------------------------------------------------------------------"
   ]
  },
  {
   "cell_type": "markdown",
   "metadata": {},
   "source": [
    "## Phase 4. Model Decision\n",
    ": Phase 4는 미리 선정된 주식들을 제외하고 나머지 주식들에 대해서 다양한 머신러닝 모형을 통해 15일 뒤의 샤프지수를 예측하는 모형을 구축하여 나머지 순위를 할당하는 작업을 한다"
   ]
  },
  {
   "cell_type": "markdown",
   "metadata": {},
   "source": [
    "### 1. Data Import"
   ]
  },
  {
   "cell_type": "code",
   "execution_count": 552,
   "metadata": {},
   "outputs": [],
   "source": [
    "### Data Import\n",
    "data = pd.read_csv(\"C:/Users/kyt28/OneDrive/바탕 화면/submit_data/phase3_data.csv\", low_memory = False)"
   ]
  },
  {
   "cell_type": "markdown",
   "metadata": {},
   "source": [
    "### 2. 공시 데이터"
   ]
  },
  {
   "cell_type": "markdown",
   "metadata": {},
   "source": [
    "##### 2-1. Dart & KIND Data 추출에 필요한 함수 : 코드키 및 함수 define"
   ]
  },
  {
   "cell_type": "code",
   "execution_count": 553,
   "metadata": {},
   "outputs": [],
   "source": [
    "### 코드키 및 함수 define\n",
    "\n",
    "## 코드 키\n",
    "crtfc_key = # 개인 API KEY\n",
    "\n",
    "## 함수\n",
    "\n",
    "# 데이터 내 날짜별로 정수에 대응시키는 함수 : ex) 2021-06-01 ~ 2023-05-31 -> 0 ~ 494\n",
    "def date_to_index(row) :\n",
    "    return(dates_index[row[\"날짜\"]])\n",
    "\n",
    "#  kind로 부터 주가의 등락의 긍/부정적 영향을 미치는 공시를 찾아 긍/부정 변수 부여\n",
    "def count_positive(row):\n",
    "    if \"신주인수권\" not in row[\"공시제목\"]:\n",
    "        return sum(row['공시제목'].count(term) for term in positive)\n",
    "    else:\n",
    "        return 0\n",
    "def count_negative(row):\n",
    "    return sum(row['공시제목'].count(term) for term in negative)\n",
    "\n",
    "\n",
    "# 거래정지 첫 날만 남기기(연속되는 날짜는 같은 거래정지 사유라는 가정 하에 진행)\n",
    "\n",
    "def start_halt(row) :\n",
    "    dates_list = zero_dates[row[\"종목코드\"]]\n",
    "    if row[\"날짜1\"] == dates_list[-1][0] :\n",
    "        return True\n",
    "    else :\n",
    "        return False\n",
    "\n",
    "    \n",
    "# 거래정지사유가 주식병합인지 분할인지 Dart 공시를 통해 확인 -> 병합이나 분할의 경우, 거래정지 시작일과 종료일 확인\n",
    "\n",
    "def check_halt_range(corp_code, date0, crtfc_key) : # 특정 기업의 특정 날짜 기준 최근 1년 간 주식병합/분할 관련 공시확인\n",
    "    \n",
    "    # text 내 여러 단어들 각각 다른 단어로 교체\n",
    "    def replace_multiple(text, dic):\n",
    "        for i, j in dic.items():\n",
    "            text = text.replace(i, j)\n",
    "        return text\n",
    "    \n",
    "    s = requests.Session()\n",
    "    retries = Retry(total=5, backoff_factor=0.1, status_forcelist=[500, 502, 503, 504])\n",
    "    s.mount('https://', HTTPAdapter(max_retries=retries))\n",
    "    \n",
    "    date1 = date.fromisoformat(date0)\n",
    "    \n",
    "    s_date = str(date1 - timedelta(days = 365)).replace(\"-\", \"\")\n",
    "    e_date = date0.replace(\"-\", \"\")\n",
    "    \n",
    "    time.sleep(1)\n",
    "    params = {\"crtfc_key\" : crtfc_key,\n",
    "              \"corp_code\" : corp_code,\n",
    "              \"bgn_de\" : s_date,\n",
    "              \"end_de\" : e_date,\n",
    "              \"pblntf_ty\" : \"I\",\n",
    "              \"page_no\" : 1,\n",
    "              \"page_count\" : 30}\n",
    "    \n",
    "    url = f\"https://opendart.fss.or.kr/api/list.json\"\n",
    "    response = s.get(url, params = params, verify = False)\n",
    "    \n",
    "    if json.loads(response.text)[\"status\"] == \"000\" :\n",
    "        lists = json.loads(response.text)['list']\n",
    "        for gongsi in lists :\n",
    "            if (\"주식분할\" in gongsi[\"report_nm\"] or \"주식병합\" in gongsi[\"report_nm\"]) and \"철회\" not in gongsi[\"report_nm\"] :\n",
    "                    \n",
    "                # 공시가 주식병합/분할 관련 공시일 경우, 해당 공시문서를 통해 거래정지시작일과 종료일 반환\n",
    "                \n",
    "                params = {\"crtfc_key\" : crtfc_key, \"rcept_no\" : gongsi[\"rcept_no\"]}\n",
    "\n",
    "                rcept_no = params[\"rcept_no\"]\n",
    "                doc_zip_path = os.path.abspath(f'./document_{rcept_no}.zip')\n",
    "\n",
    "                url = \"https://opendart.fss.or.kr/api/document.xml\"\n",
    "                response = s.get(url, params = params, verify = False)\n",
    "                with open(doc_zip_path, 'wb') as fp:\n",
    "                    fp.write(response.content)\n",
    "\n",
    "                with zipfile.ZipFile(doc_zip_path, 'r') as zf:\n",
    "                    zf.extractall()\n",
    "                    filename = zf.infolist()[0].filename\n",
    "                \n",
    "                rawdata = open(filename, 'rb').read()\n",
    "                result = chardet.detect(rawdata)\n",
    "                encoding = result['encoding']\n",
    "                    \n",
    "                with open(filename, 'r', encoding = encoding) as fp:\n",
    "                    lines = fp.readlines()\n",
    "\n",
    "                replacements = {'&cr;': '\\n', '<주': '<주', 'M&A': 'M&A', 'R&D': 'R&D'}\n",
    "                lines = [replace_multiple(line, replacements) for line in lines]\n",
    "\n",
    "                with open('./temp.xml', 'w', encoding = 'utf-8') as fp:\n",
    "                    fp.writelines(lines)\n",
    "\n",
    "                soup = BeautifulSoup(''.join(lines), 'lxml')\n",
    "\n",
    "                trade_halt_row1 = soup.find_all(lambda tag: tag.name == 'td' and tag.text.__contains__(\"매매거래정지\"))[-1]\n",
    "                start_date = trade_halt_row1.find_next_siblings('td')[-1].text.split()[-1]\n",
    "\n",
    "                trade_halt_row2 = soup.find_all(lambda tag: tag.name == 'tr' and tag.text.__contains__(\"매매거래정지\"))[-1]\n",
    "                end_date = trade_halt_row2.find_next_siblings('tr', limit=1)[0].text.split()[-1]\n",
    "\n",
    "                if \"주식분할\" in gongsi[\"report_nm\"] :\n",
    "                    return (\"주식분할\", start_date, end_date)\n",
    "                elif \"주식병합\" in gongsi[\"report_nm\"] :\n",
    "                    return (\"주식병합\", start_date, end_date)\n",
    "            \n",
    "    return(1, \"-\", \"-\")"
   ]
  },
  {
   "cell_type": "markdown",
   "metadata": {},
   "source": [
    "##### 2-2. Dart 데이터 추출\n",
    "- 각 종목별로 2023년 7월 28일 기준으로 주식 병합 또는 분할을 추출\n",
    "- 실제 Private 기간 안에 분할, 병합으로 인해 거래정지 되었던 주식이 풀릴 경우, 해당 종목코드는 포트폴리오 제외\n",
    "- [4. Model Base Setting] 파트에서, 모든 분석 대상이 정해지고 난 후 7월 28일 기준으로 추출하여 해당되는 종목은 제외"
   ]
  },
  {
   "cell_type": "markdown",
   "metadata": {},
   "source": [
    "##### 2-3. KIND 데이터 추출\n",
    "- 분석기간인 2023년 5월 1일부터 2023년 7월 28일까지 KIND 공시 제목을 통한 긍정/부정 사진제작"
   ]
  },
  {
   "cell_type": "code",
   "execution_count": 554,
   "metadata": {},
   "outputs": [],
   "source": [
    "### Data Import\n",
    "kind = pd.read_csv(\"C:/Users/kyt28/OneDrive/바탕 화면/submit_data/kind data/상세검색.csv\")\n",
    "\n",
    "for i in range(1,25) :\n",
    "    xls = pd.read_csv(f\"C:/Users/kyt28/OneDrive/바탕 화면/submit_data/kind data/상세검색 ({i}).csv\")\n",
    "    kind = pd.concat([kind, xls], axis = 0)"
   ]
  },
  {
   "cell_type": "code",
   "execution_count": 555,
   "metadata": {},
   "outputs": [],
   "source": [
    "### Data 조정\n",
    "kind['시간'] = kind['시간'].str.split(expand = True)[0]\n",
    "kind = kind.loc[:,[\"시간\",\"종목코드\", \"공시제목\"]]\n",
    "kind = kind.dropna()\n",
    "kind['종목코드'] = \"A\" + kind['종목코드'].apply(np.int64).apply(str).str.zfill(6)\n",
    "kind.columns = ['날짜','종목코드','공시제목']\n",
    "kind = kind.reset_index(drop=True)"
   ]
  },
  {
   "cell_type": "code",
   "execution_count": 556,
   "metadata": {},
   "outputs": [],
   "source": [
    "### KIND 최종 긍정 부정\n",
    "\n",
    "## 긍정/부정 사전\n",
    "positive = [\"감자결정\", \"감자완료\", \"주식소각\", \"신규상장\"]\n",
    "negative = [\"사채원리금\", \"대출금\", \"횡령\", \"자본잠식\", \"불성실공시\", \"기타안내\", \"단기과열\", \"신주인수권\"]\n",
    "\n",
    "## Data Merge\n",
    "kind['긍정'] = kind.apply(count_positive, axis = 1)\n",
    "kind['부정'] = kind.apply(count_negative, axis = 1)\n",
    "\n",
    "kind = kind[kind.긍정 + kind.부정 != 0].reset_index(drop = True)\n",
    "\n",
    "kind = kind.groupby([\"날짜\", \"종목코드\"]).aggregate(sum).reset_index()"
   ]
  },
  {
   "cell_type": "markdown",
   "metadata": {},
   "source": [
    "### 3. Data Preprocessing"
   ]
  },
  {
   "cell_type": "markdown",
   "metadata": {},
   "source": [
    "##### - 거래정지가 21년 7월 29일 ~ 23년 7월 28일 기준으로 250영업일 이상 지속된 경우 제외 : 과도한 거래정지 일수는 기업 자체의 문제가 있다고 자체적으로 판단하여 포트폴리오에서 제외"
   ]
  },
  {
   "cell_type": "code",
   "execution_count": 557,
   "metadata": {},
   "outputs": [
    {
     "name": "stdout",
     "output_type": "stream",
     "text": [
      "거래량 0이상이 250일 이상인 종목 갯수 : 16\n"
     ]
    }
   ],
   "source": [
    "### Phase1에서 2021년 7월 29일 ~ 2023년 7월 28일 데이터 Import\n",
    "notrade = pd.read_csv(\"C:/Users/kyt28/OneDrive/바탕 화면/submit_data/notrade.csv\")\n",
    "\n",
    "## 거래량 0이 250일 이상 있는 종목 제거\n",
    "no_trade = notrade[notrade['거래량'] == 0]\n",
    "no_trade = no_trade['종목코드'].value_counts().reset_index()\n",
    "excep_code1 = no_trade[no_trade['종목코드'] >= 250]['index'].tolist()\n",
    "print('거래량 0이상이 250일 이상인 종목 갯수 :',len(excep_code1))\n",
    "\n",
    "## Data에서 제거\n",
    "data = data[~data['종목코드'].isin(excep_code1)]"
   ]
  },
  {
   "cell_type": "markdown",
   "metadata": {},
   "source": [
    "##### - 분석기간 : 3개월 기간 : 2023/5/1 ~ 2023/7/28"
   ]
  },
  {
   "cell_type": "code",
   "execution_count": 558,
   "metadata": {},
   "outputs": [],
   "source": [
    "### Data Filtering & KIND긍정부정 데이터 합병\n",
    "data = data[data['날짜'] >= '2023-05-01'].reset_index(drop = True)\n",
    "data = pd.merge(data,kind,on = ['날짜','종목코드'], how = 'left')\n",
    "\n",
    "## 긍정/부정 없는 데이터는 0으로 채우기\n",
    "data[['긍정','부정']] = data[['긍정','부정']].fillna(0)"
   ]
  },
  {
   "cell_type": "markdown",
   "metadata": {},
   "source": [
    "### 4. Model Base Setting"
   ]
  },
  {
   "cell_type": "markdown",
   "metadata": {},
   "source": [
    "##### 4-1. Label Encoding"
   ]
  },
  {
   "cell_type": "code",
   "execution_count": 559,
   "metadata": {},
   "outputs": [],
   "source": [
    "categ = data.dtypes[data.dtypes == \"object\"].index.tolist()\n",
    "categ.remove('날짜')\n",
    "categ.remove('종목코드')\n",
    "\n",
    "label_encoder = LabelEncoder()\n",
    "for feature in categ :\n",
    "    data[feature] = label_encoder.fit_transform(data[feature])\n",
    "    \n",
    "data['종목코드_x'] = label_encoder.fit_transform(data['종목코드'])"
   ]
  },
  {
   "cell_type": "markdown",
   "metadata": {},
   "source": [
    "##### 4-2. 7/28일 예측시점 제외 (마지막 예측할 기간)"
   ]
  },
  {
   "cell_type": "code",
   "execution_count": 560,
   "metadata": {},
   "outputs": [],
   "source": [
    "real_test = data[data['날짜'] == '2023-07-28'].reset_index(drop=True)\n",
    "real_test = real_test.drop(['날짜','15by1_SI'],axis=1)\n",
    "data = data.drop('날짜',axis=1)"
   ]
  },
  {
   "cell_type": "markdown",
   "metadata": {},
   "source": [
    "##### 4-3. 결측값 제거"
   ]
  },
  {
   "cell_type": "code",
   "execution_count": 561,
   "metadata": {},
   "outputs": [
    {
     "name": "stdout",
     "output_type": "stream",
     "text": [
      "종목코드              0\n",
      "종가                0\n",
      "거래량               0\n",
      "거래대금              0\n",
      "등락률               0\n",
      "BPS              30\n",
      "PER              30\n",
      "PBR              30\n",
      "EPS              30\n",
      "지분율               0\n",
      "15by1_SI      25785\n",
      "외국인총합           307\n",
      "외국인거래율          307\n",
      "연기금거래율          307\n",
      "MAfor           420\n",
      "ForProp         471\n",
      "MA5               0\n",
      "MA15              0\n",
      "MA60              0\n",
      "MACD              0\n",
      "MACDsignal        0\n",
      "MACDtouch         0\n",
      "bollinger         0\n",
      "RSI               0\n",
      "MFI               0\n",
      "CCI               0\n",
      "긍정                0\n",
      "부정                0\n",
      "종목코드_x            0\n",
      "dtype: int64\n",
      "기존 데이터 row : 104859\n"
     ]
    }
   ],
   "source": [
    "### 결측값\n",
    "print(data.isna().sum())\n",
    "print('기존 데이터 row :',len(data))"
   ]
  },
  {
   "cell_type": "code",
   "execution_count": 562,
   "metadata": {},
   "outputs": [
    {
     "name": "stdout",
     "output_type": "stream",
     "text": [
      "결측값 제거 데이터 row : 78629\n",
      "종목코드 수 : 1719\n"
     ]
    }
   ],
   "source": [
    "### 결측값 제거\n",
    "data = data.dropna().reset_index(drop=True)\n",
    "print('결측값 제거 데이터 row :',len(data))\n",
    "print('종목코드 수 :',data['종목코드'].nunique())"
   ]
  },
  {
   "cell_type": "markdown",
   "metadata": {},
   "source": [
    "##### 4-4. 2023년 7월 28일 기준 Dart 주식분할/병합 공시 데이터"
   ]
  },
  {
   "cell_type": "code",
   "execution_count": 85,
   "metadata": {
    "scrolled": true
   },
   "outputs": [
    {
     "name": "stdout",
     "output_type": "stream",
     "text": [
      "0\n",
      "20\n",
      "40\n",
      "60\n",
      "80\n",
      "100\n",
      "120\n",
      "140\n",
      "160\n",
      "180\n",
      "200\n",
      "220\n",
      "240\n",
      "260\n",
      "280\n",
      "300\n",
      "320\n",
      "340\n",
      "360\n",
      "380\n",
      "400\n",
      "420\n",
      "440\n",
      "460\n",
      "480\n",
      "500\n",
      "520\n",
      "540\n",
      "560\n",
      "580\n",
      "600\n",
      "620\n",
      "640\n",
      "660\n",
      "680\n",
      "700\n",
      "720\n",
      "740\n",
      "760\n",
      "780\n",
      "800\n",
      "820\n",
      "840\n",
      "860\n",
      "880\n",
      "900\n",
      "920\n",
      "940\n",
      "960\n",
      "980\n",
      "1000\n",
      "1020\n",
      "1040\n",
      "1060\n",
      "1080\n",
      "1100\n",
      "1120\n",
      "1140\n",
      "1160\n",
      "1180\n",
      "1200\n",
      "1220\n",
      "1240\n",
      "1260\n",
      "1280\n",
      "1300\n",
      "1320\n",
      "1340\n",
      "1360\n",
      "1380\n",
      "1400\n",
      "1420\n",
      "1440\n",
      "1460\n",
      "1480\n",
      "1500\n",
      "1520\n",
      "1540\n",
      "1560\n",
      "1580\n",
      "1600\n",
      "1620\n",
      "1640\n",
      "1660\n",
      "1680\n",
      "1700\n"
     ]
    }
   ],
   "source": [
    "### 분석대상 코드 지정\n",
    "code = data['종목코드'].unique().tolist()\n",
    "\n",
    "# 각 기업별 데이터 마지막 날짜 기준(Private 기간 전 마지막 영업일) 최근 1년 간 주식병합/분할 관련 공시여부 확인 후 거래정지시작일과 종료일 반환\n",
    "for i in range(len(code)) :\n",
    "    if i % 20 == 0 :\n",
    "        print(i)\n",
    "    data.loc[data.종목코드 == code[i], [\"거래정지사유\", \"거래정지시작일\", \"거래정지종료일\"]] = check_halt_range(code[i], \"2023-07-28\", crtfc_key)"
   ]
  },
  {
   "cell_type": "code",
   "execution_count": 7,
   "metadata": {},
   "outputs": [
    {
     "data": {
      "text/plain": [
       "-             1700\n",
       "2023-05-03       2\n",
       "2023-08-24       1\n",
       "2023-05-02       1\n",
       "2023-04-12       1\n",
       "2023-05-15       1\n",
       "2023-05-11       1\n",
       "2022-10-30       1\n",
       "2023-04-21       1\n",
       "2023-08-25       1\n",
       "2023-05-24       1\n",
       "2023-05-31       1\n",
       "2023-05-22       1\n",
       "2022-11-15       1\n",
       "2023-09-11       1\n",
       "2022-12-01       1\n",
       "2023-05-10       1\n",
       "2023-04-13       1\n",
       "2022-12-09       1\n",
       "Name: 거래정지종료일, dtype: int64"
      ]
     },
     "execution_count": 7,
     "metadata": {},
     "output_type": "execute_result"
    }
   ],
   "source": [
    "### 결과 확인 : Private 기간 안에 주식분할 또는 병합으로 인한 거래정지가 풀린 기업이 없기 떄문에 분석대상에 모두 포함\n",
    "data = data[data['날짜'] == '2023-07-28']\n",
    "data = data.drop('거래정지종료일',axis=1)\n",
    "dat['거래정지종료일'].value_counts()"
   ]
  },
  {
   "cell_type": "code",
   "execution_count": 359,
   "metadata": {},
   "outputs": [],
   "source": [
    "data = data.drop([\"거래정지사유\", \"거래정지시작일\", \"거래정지종료일\"],axis=1)"
   ]
  },
  {
   "cell_type": "markdown",
   "metadata": {},
   "source": [
    "##### 4-5. 거래 분석기간 23년 5월 1일 ~ 23년 7월 28일 기준으로 40영업일 미만 데이터가 존재할 경우 분석 대상 제외"
   ]
  },
  {
   "cell_type": "code",
   "execution_count": 564,
   "metadata": {},
   "outputs": [],
   "source": [
    "### 표본의 대표성에 의해 한 종목 당 최소 40개 이상의 데이터를 학습시킨다\n",
    "\n",
    "## 40개 미만 데이터를 가지는 종목코드 추출\n",
    "vc = data['종목코드'].value_counts().reset_index()\n",
    "excep_code2 = vc[vc['종목코드'] < 40]['index'].tolist()\n",
    "\n",
    "## 해당 종목코드 제외\n",
    "data = data[~data['종목코드'].isin(excep_code2)].reset_index(drop=True)\n",
    "real_test = real_test[~real_test['종목코드'].isin(excep_code2)].reset_index(drop=True)"
   ]
  },
  {
   "cell_type": "markdown",
   "metadata": {},
   "source": [
    "##### 4-6. 모든 제외사항 후, Label Encoder 된 종목코드에 대한 dictionary"
   ]
  },
  {
   "cell_type": "code",
   "execution_count": 565,
   "metadata": {},
   "outputs": [],
   "source": [
    "### dictionary\n",
    "code_dict = data[['종목코드','종목코드_x']]\n",
    "code_dict = code_dict.drop_duplicates('종목코드',keep = \"first\").reset_index(drop=True)\n",
    "\n",
    "## Label Encoder에 맞게 종목코드 지정\n",
    "data['종목코드'] = data['종목코드_x']\n",
    "data = data.drop('종목코드_x',axis=1)"
   ]
  },
  {
   "cell_type": "markdown",
   "metadata": {},
   "source": [
    "##### 4-7. data split"
   ]
  },
  {
   "cell_type": "code",
   "execution_count": 318,
   "metadata": {},
   "outputs": [],
   "source": [
    "### Data Split\n",
    "code = data['종목코드'].unique().tolist()\n",
    "train = pd.DataFrame()\n",
    "test = pd.DataFrame()\n",
    "\n",
    "for i in code :\n",
    "    dt = data[data['종목코드'] == i].reset_index(drop = True)\n",
    "    tr, te = train_test_split(dt, train_size = int(len(dt) - 5), shuffle = False)\n",
    "    \n",
    "    train = pd.concat([train,tr], axis = 0)\n",
    "    test = pd.concat([test,te], axis = 0)\n",
    "\n",
    "train = train.reset_index(drop=True) \n",
    "test = test.reset_index(drop=True)\n",
    "\n",
    "## Data 지정\n",
    "x_train, y_train = train.drop('15by1_SI',axis=1), train['15by1_SI']\n",
    "x_test, y_test = test.drop('15by1_SI',axis=1), test['15by1_SI']"
   ]
  },
  {
   "cell_type": "markdown",
   "metadata": {},
   "source": [
    "### 5. Model Fitting\n",
    ": 아래 모형들을 통해 해당 요일의 15일 뒤의 샤프지수를 예측하는 모형을 구축 (Cross-Validation for cv=5)\n",
    "- Random Forest\n",
    "- XGBoost\n",
    "- LightGBM"
   ]
  },
  {
   "cell_type": "markdown",
   "metadata": {},
   "source": [
    "##### 5-1. Random Forest"
   ]
  },
  {
   "cell_type": "code",
   "execution_count": 24,
   "metadata": {},
   "outputs": [],
   "source": [
    "### Random Forest Cross Validation for Searching Best Parameter\n",
    "rf = RandomForestRegressor()\n",
    "\n",
    "param_rf = {\n",
    "    \"n_estimators\": [100,150,200],\n",
    "    \"max_depth\": [None,10,30]\n",
    "}\n",
    "\n",
    "rf_grid = GridSearchCV(estimator = rf,\n",
    "                       param_grid = param_rf,\n",
    "                       cv = 5, \n",
    "                       refit = True, \n",
    "                       n_jobs = -1)"
   ]
  },
  {
   "cell_type": "code",
   "execution_count": 25,
   "metadata": {},
   "outputs": [
    {
     "data": {
      "text/html": [
       "<style>#sk-container-id-1 {color: black;background-color: white;}#sk-container-id-1 pre{padding: 0;}#sk-container-id-1 div.sk-toggleable {background-color: white;}#sk-container-id-1 label.sk-toggleable__label {cursor: pointer;display: block;width: 100%;margin-bottom: 0;padding: 0.3em;box-sizing: border-box;text-align: center;}#sk-container-id-1 label.sk-toggleable__label-arrow:before {content: \"▸\";float: left;margin-right: 0.25em;color: #696969;}#sk-container-id-1 label.sk-toggleable__label-arrow:hover:before {color: black;}#sk-container-id-1 div.sk-estimator:hover label.sk-toggleable__label-arrow:before {color: black;}#sk-container-id-1 div.sk-toggleable__content {max-height: 0;max-width: 0;overflow: hidden;text-align: left;background-color: #f0f8ff;}#sk-container-id-1 div.sk-toggleable__content pre {margin: 0.2em;color: black;border-radius: 0.25em;background-color: #f0f8ff;}#sk-container-id-1 input.sk-toggleable__control:checked~div.sk-toggleable__content {max-height: 200px;max-width: 100%;overflow: auto;}#sk-container-id-1 input.sk-toggleable__control:checked~label.sk-toggleable__label-arrow:before {content: \"▾\";}#sk-container-id-1 div.sk-estimator input.sk-toggleable__control:checked~label.sk-toggleable__label {background-color: #d4ebff;}#sk-container-id-1 div.sk-label input.sk-toggleable__control:checked~label.sk-toggleable__label {background-color: #d4ebff;}#sk-container-id-1 input.sk-hidden--visually {border: 0;clip: rect(1px 1px 1px 1px);clip: rect(1px, 1px, 1px, 1px);height: 1px;margin: -1px;overflow: hidden;padding: 0;position: absolute;width: 1px;}#sk-container-id-1 div.sk-estimator {font-family: monospace;background-color: #f0f8ff;border: 1px dotted black;border-radius: 0.25em;box-sizing: border-box;margin-bottom: 0.5em;}#sk-container-id-1 div.sk-estimator:hover {background-color: #d4ebff;}#sk-container-id-1 div.sk-parallel-item::after {content: \"\";width: 100%;border-bottom: 1px solid gray;flex-grow: 1;}#sk-container-id-1 div.sk-label:hover label.sk-toggleable__label {background-color: #d4ebff;}#sk-container-id-1 div.sk-serial::before {content: \"\";position: absolute;border-left: 1px solid gray;box-sizing: border-box;top: 0;bottom: 0;left: 50%;z-index: 0;}#sk-container-id-1 div.sk-serial {display: flex;flex-direction: column;align-items: center;background-color: white;padding-right: 0.2em;padding-left: 0.2em;position: relative;}#sk-container-id-1 div.sk-item {position: relative;z-index: 1;}#sk-container-id-1 div.sk-parallel {display: flex;align-items: stretch;justify-content: center;background-color: white;position: relative;}#sk-container-id-1 div.sk-item::before, #sk-container-id-1 div.sk-parallel-item::before {content: \"\";position: absolute;border-left: 1px solid gray;box-sizing: border-box;top: 0;bottom: 0;left: 50%;z-index: -1;}#sk-container-id-1 div.sk-parallel-item {display: flex;flex-direction: column;z-index: 1;position: relative;background-color: white;}#sk-container-id-1 div.sk-parallel-item:first-child::after {align-self: flex-end;width: 50%;}#sk-container-id-1 div.sk-parallel-item:last-child::after {align-self: flex-start;width: 50%;}#sk-container-id-1 div.sk-parallel-item:only-child::after {width: 0;}#sk-container-id-1 div.sk-dashed-wrapped {border: 1px dashed gray;margin: 0 0.4em 0.5em 0.4em;box-sizing: border-box;padding-bottom: 0.4em;background-color: white;}#sk-container-id-1 div.sk-label label {font-family: monospace;font-weight: bold;display: inline-block;line-height: 1.2em;}#sk-container-id-1 div.sk-label-container {text-align: center;}#sk-container-id-1 div.sk-container {/* jupyter's `normalize.less` sets `[hidden] { display: none; }` but bootstrap.min.css set `[hidden] { display: none !important; }` so we also need the `!important` here to be able to override the default hidden behavior on the sphinx rendered scikit-learn.org. See: https://github.com/scikit-learn/scikit-learn/issues/21755 */display: inline-block !important;position: relative;}#sk-container-id-1 div.sk-text-repr-fallback {display: none;}</style><div id=\"sk-container-id-1\" class=\"sk-top-container\"><div class=\"sk-text-repr-fallback\"><pre>GridSearchCV(cv=5, estimator=RandomForestRegressor(), n_jobs=-1,\n",
       "             param_grid={&#x27;max_depth&#x27;: [None, 10, 30],\n",
       "                         &#x27;n_estimators&#x27;: [100, 150, 200]})</pre><b>In a Jupyter environment, please rerun this cell to show the HTML representation or trust the notebook. <br />On GitHub, the HTML representation is unable to render, please try loading this page with nbviewer.org.</b></div><div class=\"sk-container\" hidden><div class=\"sk-item sk-dashed-wrapped\"><div class=\"sk-label-container\"><div class=\"sk-label sk-toggleable\"><input class=\"sk-toggleable__control sk-hidden--visually\" id=\"sk-estimator-id-1\" type=\"checkbox\" ><label for=\"sk-estimator-id-1\" class=\"sk-toggleable__label sk-toggleable__label-arrow\">GridSearchCV</label><div class=\"sk-toggleable__content\"><pre>GridSearchCV(cv=5, estimator=RandomForestRegressor(), n_jobs=-1,\n",
       "             param_grid={&#x27;max_depth&#x27;: [None, 10, 30],\n",
       "                         &#x27;n_estimators&#x27;: [100, 150, 200]})</pre></div></div></div><div class=\"sk-parallel\"><div class=\"sk-parallel-item\"><div class=\"sk-item\"><div class=\"sk-label-container\"><div class=\"sk-label sk-toggleable\"><input class=\"sk-toggleable__control sk-hidden--visually\" id=\"sk-estimator-id-2\" type=\"checkbox\" ><label for=\"sk-estimator-id-2\" class=\"sk-toggleable__label sk-toggleable__label-arrow\">estimator: RandomForestRegressor</label><div class=\"sk-toggleable__content\"><pre>RandomForestRegressor()</pre></div></div></div><div class=\"sk-serial\"><div class=\"sk-item\"><div class=\"sk-estimator sk-toggleable\"><input class=\"sk-toggleable__control sk-hidden--visually\" id=\"sk-estimator-id-3\" type=\"checkbox\" ><label for=\"sk-estimator-id-3\" class=\"sk-toggleable__label sk-toggleable__label-arrow\">RandomForestRegressor</label><div class=\"sk-toggleable__content\"><pre>RandomForestRegressor()</pre></div></div></div></div></div></div></div></div></div></div>"
      ],
      "text/plain": [
       "GridSearchCV(cv=5, estimator=RandomForestRegressor(), n_jobs=-1,\n",
       "             param_grid={'max_depth': [None, 10, 30],\n",
       "                         'n_estimators': [100, 150, 200]})"
      ]
     },
     "execution_count": 25,
     "metadata": {},
     "output_type": "execute_result"
    }
   ],
   "source": [
    "rf_grid.fit(x_train, y_train)"
   ]
  },
  {
   "cell_type": "code",
   "execution_count": 28,
   "metadata": {},
   "outputs": [
    {
     "data": {
      "text/html": [
       "<div>\n",
       "<style scoped>\n",
       "    .dataframe tbody tr th:only-of-type {\n",
       "        vertical-align: middle;\n",
       "    }\n",
       "\n",
       "    .dataframe tbody tr th {\n",
       "        vertical-align: top;\n",
       "    }\n",
       "\n",
       "    .dataframe thead th {\n",
       "        text-align: right;\n",
       "    }\n",
       "</style>\n",
       "<table border=\"1\" class=\"dataframe\">\n",
       "  <thead>\n",
       "    <tr style=\"text-align: right;\">\n",
       "      <th></th>\n",
       "      <th>params</th>\n",
       "      <th>mean_test_score</th>\n",
       "      <th>rank_test_score</th>\n",
       "      <th>split0_test_score</th>\n",
       "      <th>split1_test_score</th>\n",
       "      <th>split2_test_score</th>\n",
       "      <th>split3_test_score</th>\n",
       "      <th>split4_test_score</th>\n",
       "    </tr>\n",
       "  </thead>\n",
       "  <tbody>\n",
       "    <tr>\n",
       "      <th>0</th>\n",
       "      <td>{'max_depth': None, 'n_estimators': 100}</td>\n",
       "      <td>-0.083113</td>\n",
       "      <td>8</td>\n",
       "      <td>-0.101341</td>\n",
       "      <td>-0.069171</td>\n",
       "      <td>-0.055680</td>\n",
       "      <td>-0.041318</td>\n",
       "      <td>-0.148056</td>\n",
       "    </tr>\n",
       "    <tr>\n",
       "      <th>1</th>\n",
       "      <td>{'max_depth': None, 'n_estimators': 150}</td>\n",
       "      <td>-0.076284</td>\n",
       "      <td>5</td>\n",
       "      <td>-0.092647</td>\n",
       "      <td>-0.074067</td>\n",
       "      <td>-0.055181</td>\n",
       "      <td>-0.040337</td>\n",
       "      <td>-0.119189</td>\n",
       "    </tr>\n",
       "    <tr>\n",
       "      <th>2</th>\n",
       "      <td>{'max_depth': None, 'n_estimators': 200}</td>\n",
       "      <td>-0.077182</td>\n",
       "      <td>6</td>\n",
       "      <td>-0.100601</td>\n",
       "      <td>-0.060201</td>\n",
       "      <td>-0.048615</td>\n",
       "      <td>-0.038303</td>\n",
       "      <td>-0.138190</td>\n",
       "    </tr>\n",
       "    <tr>\n",
       "      <th>3</th>\n",
       "      <td>{'max_depth': 10, 'n_estimators': 100}</td>\n",
       "      <td>-0.011241</td>\n",
       "      <td>2</td>\n",
       "      <td>-0.042735</td>\n",
       "      <td>-0.000112</td>\n",
       "      <td>0.011866</td>\n",
       "      <td>0.024456</td>\n",
       "      <td>-0.049678</td>\n",
       "    </tr>\n",
       "    <tr>\n",
       "      <th>4</th>\n",
       "      <td>{'max_depth': 10, 'n_estimators': 150}</td>\n",
       "      <td>-0.015550</td>\n",
       "      <td>3</td>\n",
       "      <td>-0.046170</td>\n",
       "      <td>-0.002509</td>\n",
       "      <td>0.013133</td>\n",
       "      <td>0.022717</td>\n",
       "      <td>-0.064923</td>\n",
       "    </tr>\n",
       "    <tr>\n",
       "      <th>5</th>\n",
       "      <td>{'max_depth': 10, 'n_estimators': 200}</td>\n",
       "      <td>-0.009746</td>\n",
       "      <td>1</td>\n",
       "      <td>-0.040033</td>\n",
       "      <td>0.002496</td>\n",
       "      <td>0.015161</td>\n",
       "      <td>0.026650</td>\n",
       "      <td>-0.053004</td>\n",
       "    </tr>\n",
       "    <tr>\n",
       "      <th>6</th>\n",
       "      <td>{'max_depth': 30, 'n_estimators': 100}</td>\n",
       "      <td>-0.087116</td>\n",
       "      <td>9</td>\n",
       "      <td>-0.107161</td>\n",
       "      <td>-0.079172</td>\n",
       "      <td>-0.059683</td>\n",
       "      <td>-0.046262</td>\n",
       "      <td>-0.143300</td>\n",
       "    </tr>\n",
       "    <tr>\n",
       "      <th>7</th>\n",
       "      <td>{'max_depth': 30, 'n_estimators': 150}</td>\n",
       "      <td>-0.078333</td>\n",
       "      <td>7</td>\n",
       "      <td>-0.100720</td>\n",
       "      <td>-0.065904</td>\n",
       "      <td>-0.048920</td>\n",
       "      <td>-0.043567</td>\n",
       "      <td>-0.132555</td>\n",
       "    </tr>\n",
       "    <tr>\n",
       "      <th>8</th>\n",
       "      <td>{'max_depth': 30, 'n_estimators': 200}</td>\n",
       "      <td>-0.075434</td>\n",
       "      <td>4</td>\n",
       "      <td>-0.097894</td>\n",
       "      <td>-0.066944</td>\n",
       "      <td>-0.049773</td>\n",
       "      <td>-0.038386</td>\n",
       "      <td>-0.124172</td>\n",
       "    </tr>\n",
       "  </tbody>\n",
       "</table>\n",
       "</div>"
      ],
      "text/plain": [
       "                                     params  mean_test_score  rank_test_score  \\\n",
       "0  {'max_depth': None, 'n_estimators': 100}        -0.083113                8   \n",
       "1  {'max_depth': None, 'n_estimators': 150}        -0.076284                5   \n",
       "2  {'max_depth': None, 'n_estimators': 200}        -0.077182                6   \n",
       "3    {'max_depth': 10, 'n_estimators': 100}        -0.011241                2   \n",
       "4    {'max_depth': 10, 'n_estimators': 150}        -0.015550                3   \n",
       "5    {'max_depth': 10, 'n_estimators': 200}        -0.009746                1   \n",
       "6    {'max_depth': 30, 'n_estimators': 100}        -0.087116                9   \n",
       "7    {'max_depth': 30, 'n_estimators': 150}        -0.078333                7   \n",
       "8    {'max_depth': 30, 'n_estimators': 200}        -0.075434                4   \n",
       "\n",
       "   split0_test_score  split1_test_score  split2_test_score  split3_test_score  \\\n",
       "0          -0.101341          -0.069171          -0.055680          -0.041318   \n",
       "1          -0.092647          -0.074067          -0.055181          -0.040337   \n",
       "2          -0.100601          -0.060201          -0.048615          -0.038303   \n",
       "3          -0.042735          -0.000112           0.011866           0.024456   \n",
       "4          -0.046170          -0.002509           0.013133           0.022717   \n",
       "5          -0.040033           0.002496           0.015161           0.026650   \n",
       "6          -0.107161          -0.079172          -0.059683          -0.046262   \n",
       "7          -0.100720          -0.065904          -0.048920          -0.043567   \n",
       "8          -0.097894          -0.066944          -0.049773          -0.038386   \n",
       "\n",
       "   split4_test_score  \n",
       "0          -0.148056  \n",
       "1          -0.119189  \n",
       "2          -0.138190  \n",
       "3          -0.049678  \n",
       "4          -0.064923  \n",
       "5          -0.053004  \n",
       "6          -0.143300  \n",
       "7          -0.132555  \n",
       "8          -0.124172  "
      ]
     },
     "execution_count": 28,
     "metadata": {},
     "output_type": "execute_result"
    }
   ],
   "source": [
    "scores = pd.DataFrame(grid_search.cv_results_)\n",
    "scores[['params','mean_test_score','rank_test_score','split0_test_score','split1_test_score','split2_test_score','split3_test_score','split4_test_score']]"
   ]
  },
  {
   "cell_type": "code",
   "execution_count": 29,
   "metadata": {},
   "outputs": [
    {
     "name": "stdout",
     "output_type": "stream",
     "text": [
      "평균제곱근오차 :  0.31612728321999106\n",
      "예측값과 상관계수 :  0.34334366097749003\n"
     ]
    }
   ],
   "source": [
    "### Refit Random Forest for Best Hyper-parameter\n",
    "rf_model = RandomForestRegressor(random_state = 0, max_depth = 10, n_estimators = 200)\n",
    "rf_model.fit(x_train, y_train)\n",
    "\n",
    "y_pred = rf_model.predict(x_test)\n",
    "\n",
    "mse = np.sqrt(mean_squared_error(y_pred, y_test))\n",
    "a = pd.DataFrame(y_pred,y_test).reset_index()\n",
    "\n",
    "print('평균제곱근오차 : ', mse)\n",
    "print('예측값과 상관계수 : ', a.corr().iloc[1,0])"
   ]
  },
  {
   "cell_type": "markdown",
   "metadata": {},
   "source": [
    "##### 5-2. XGBoost"
   ]
  },
  {
   "cell_type": "code",
   "execution_count": 14,
   "metadata": {
    "scrolled": true
   },
   "outputs": [
    {
     "name": "stdout",
     "output_type": "stream",
     "text": [
      "Fitting 5 folds for each of 36 candidates, totalling 180 fits\n",
      "[CV 4/5] END colsample_bytree=0.5, learning_rate=0.05, max_depth=None, n_estimators=100, subsample=0.75;, score=0.029 total time=   6.2s\n",
      "[CV 3/5] END colsample_bytree=0.5, learning_rate=0.05, max_depth=None, n_estimators=150, subsample=0.75;, score=0.019 total time=   9.3s\n",
      "[CV 1/5] END colsample_bytree=0.5, learning_rate=0.05, max_depth=None, n_estimators=200, subsample=0.75;, score=-0.070 total time=  12.6s\n",
      "[CV 2/5] END colsample_bytree=0.5, learning_rate=0.05, max_depth=10, n_estimators=100, subsample=0.75;, score=-0.021 total time=  11.3s\n",
      "[CV 3/5] END colsample_bytree=0.5, learning_rate=0.05, max_depth=10, n_estimators=150, subsample=0.75;, score=-0.035 total time=  17.6s\n",
      "[CV 4/5] END colsample_bytree=0.5, learning_rate=0.05, max_depth=10, n_estimators=200, subsample=0.75;, score=-0.014 total time=  23.7s\n",
      "[CV 1/5] END colsample_bytree=0.5, learning_rate=0.05, max_depth=30, n_estimators=100, subsample=0.75;, score=-0.089 total time=  35.6s\n"
     ]
    },
    {
     "name": "stderr",
     "output_type": "stream",
     "text": [
      "/opt/homebrew/Caskroom/miniforge/base/lib/python3.10/site-packages/joblib/externals/loky/process_executor.py:700: UserWarning: A worker stopped while some jobs were given to the executor. This can be caused by a too short worker timeout or by a memory leak.\n",
      "  warnings.warn(\n"
     ]
    },
    {
     "name": "stdout",
     "output_type": "stream",
     "text": [
      "[CV 5/5] END colsample_bytree=0.5, learning_rate=0.05, max_depth=None, n_estimators=100, subsample=0.75;, score=-0.008 total time=   6.2s\n",
      "[CV 4/5] END colsample_bytree=0.5, learning_rate=0.05, max_depth=None, n_estimators=150, subsample=0.75;, score=0.024 total time=   9.4s\n",
      "[CV 5/5] END colsample_bytree=0.5, learning_rate=0.05, max_depth=None, n_estimators=200, subsample=0.75;, score=-0.044 total time=  12.6s\n",
      "[CV 4/5] END colsample_bytree=0.5, learning_rate=0.05, max_depth=10, n_estimators=100, subsample=0.75;, score=0.002 total time=  11.3s\n",
      "[CV 4/5] END colsample_bytree=0.5, learning_rate=0.05, max_depth=10, n_estimators=150, subsample=0.75;, score=-0.008 total time=  17.5s\n",
      "[CV 1/5] END colsample_bytree=0.5, learning_rate=0.05, max_depth=10, n_estimators=200, subsample=0.75;, score=-0.066 total time=  23.8s\n",
      "[CV 2/5] END colsample_bytree=0.5, learning_rate=0.05, max_depth=30, n_estimators=100, subsample=0.75;, score=-0.096 total time=  35.6s\n",
      "[CV 3/5] END colsample_bytree=0.5, learning_rate=0.05, max_depth=None, n_estimators=100, subsample=0.75;, score=0.024 total time=   6.1s\n",
      "[CV 1/5] END colsample_bytree=0.5, learning_rate=0.05, max_depth=None, n_estimators=150, subsample=0.75;, score=-0.022 total time=   9.4s\n",
      "[CV 3/5] END colsample_bytree=0.5, learning_rate=0.05, max_depth=None, n_estimators=200, subsample=0.75;, score=0.014 total time=  12.6s\n",
      "[CV 1/5] END colsample_bytree=0.5, learning_rate=0.05, max_depth=10, n_estimators=100, subsample=0.75;, score=-0.040 total time=  11.3s\n",
      "[CV 1/5] END colsample_bytree=0.5, learning_rate=0.05, max_depth=10, n_estimators=150, subsample=0.75;, score=-0.054 total time=  17.6s\n",
      "[CV 3/5] END colsample_bytree=0.5, learning_rate=0.05, max_depth=10, n_estimators=200, subsample=0.75;, score=-0.046 total time=  23.9s\n",
      "[CV 3/5] END colsample_bytree=0.5, learning_rate=0.05, max_depth=30, n_estimators=100, subsample=0.75;, score=-0.067 total time=  35.8s\n",
      "[CV 1/5] END colsample_bytree=0.5, learning_rate=0.05, max_depth=None, n_estimators=100, subsample=0.75;, score=0.010 total time=   6.3s\n",
      "[CV 5/5] END colsample_bytree=0.5, learning_rate=0.05, max_depth=None, n_estimators=150, subsample=0.75;, score=-0.030 total time=   9.3s\n",
      "[CV 2/5] END colsample_bytree=0.5, learning_rate=0.05, max_depth=None, n_estimators=200, subsample=0.75;, score=-0.010 total time=  12.8s\n",
      "[CV 5/5] END colsample_bytree=0.5, learning_rate=0.05, max_depth=10, n_estimators=100, subsample=0.75;, score=-0.034 total time=  11.2s\n",
      "[CV 5/5] END colsample_bytree=0.5, learning_rate=0.05, max_depth=10, n_estimators=150, subsample=0.75;, score=-0.054 total time=  17.5s\n",
      "[CV 2/5] END colsample_bytree=0.5, learning_rate=0.05, max_depth=10, n_estimators=200, subsample=0.75;, score=-0.037 total time=  24.1s\n",
      "[CV 5/5] END colsample_bytree=0.5, learning_rate=0.05, max_depth=30, n_estimators=100, subsample=0.75;, score=-0.062 total time=  35.6s\n",
      "[CV 2/5] END colsample_bytree=0.5, learning_rate=0.05, max_depth=None, n_estimators=100, subsample=0.75;, score=0.006 total time=   6.2s\n",
      "[CV 2/5] END colsample_bytree=0.5, learning_rate=0.05, max_depth=None, n_estimators=150, subsample=0.75;, score=0.000 total time=   9.4s\n",
      "[CV 4/5] END colsample_bytree=0.5, learning_rate=0.05, max_depth=None, n_estimators=200, subsample=0.75;, score=0.020 total time=  12.6s\n",
      "[CV 3/5] END colsample_bytree=0.5, learning_rate=0.05, max_depth=10, n_estimators=100, subsample=0.75;, score=-0.021 total time=  11.3s\n",
      "[CV 2/5] END colsample_bytree=0.5, learning_rate=0.05, max_depth=10, n_estimators=150, subsample=0.75;, score=-0.028 total time=  17.7s\n",
      "[CV 5/5] END colsample_bytree=0.5, learning_rate=0.05, max_depth=10, n_estimators=200, subsample=0.75;, score=-0.071 total time=  23.8s\n",
      "[CV 4/5] END colsample_bytree=0.5, learning_rate=0.05, max_depth=30, n_estimators=100, subsample=0.75;, score=-0.042 total time=  35.9s\n",
      "[CV 4/5] END colsample_bytree=0.5, learning_rate=0.05, max_depth=30, n_estimators=150, subsample=0.75;, score=-0.039 total time=  56.1s\n",
      "[CV 5/5] END colsample_bytree=0.5, learning_rate=0.05, max_depth=30, n_estimators=200, subsample=0.75;, score=-0.059 total time= 1.3min\n",
      "[CV 3/5] END colsample_bytree=0.5, learning_rate=0.05, max_depth=30, n_estimators=150, subsample=0.75;, score=-0.061 total time=  55.9s\n",
      "[CV 3/5] END colsample_bytree=0.5, learning_rate=0.05, max_depth=30, n_estimators=200, subsample=0.75;, score=-0.060 total time= 1.3min\n",
      "[CV 4/5] END colsample_bytree=0.5, learning_rate=0.1, max_depth=None, n_estimators=100, subsample=0.75;, score=0.016 total time=   6.4s\n",
      "[CV 4/5] END colsample_bytree=0.5, learning_rate=0.1, max_depth=None, n_estimators=150, subsample=0.75;, score=0.011 total time=   9.6s\n",
      "[CV 4/5] END colsample_bytree=0.5, learning_rate=0.1, max_depth=None, n_estimators=200, subsample=0.75;, score=0.004 total time=  12.9s\n",
      "[CV 4/5] END colsample_bytree=0.5, learning_rate=0.1, max_depth=10, n_estimators=100, subsample=0.75;, score=-0.031 total time=  11.8s\n",
      "[CV 4/5] END colsample_bytree=0.5, learning_rate=0.1, max_depth=10, n_estimators=150, subsample=0.75;, score=-0.044 total time=  17.6s\n",
      "[CV 3/5] END colsample_bytree=0.5, learning_rate=0.1, max_depth=10, n_estimators=200, subsample=0.75;, score=-0.075 total time=  23.7s\n",
      "[CV 5/5] END colsample_bytree=0.5, learning_rate=0.1, max_depth=30, n_estimators=100, subsample=0.75;, score=-0.105 total time=  38.7s\n",
      "[CV 5/5] END colsample_bytree=0.5, learning_rate=0.1, max_depth=None, n_estimators=100, subsample=0.75;, score=-0.067 total time=   6.4s\n",
      "[CV 5/5] END colsample_bytree=0.5, learning_rate=0.1, max_depth=None, n_estimators=150, subsample=0.75;, score=-0.092 total time=   9.6s\n",
      "[CV 5/5] END colsample_bytree=0.5, learning_rate=0.1, max_depth=None, n_estimators=200, subsample=0.75;, score=-0.117 total time=  12.9s\n",
      "[CV 5/5] END colsample_bytree=0.5, learning_rate=0.1, max_depth=10, n_estimators=100, subsample=0.75;, score=-0.118 total time=  11.7s\n",
      "[CV 5/5] END colsample_bytree=0.5, learning_rate=0.1, max_depth=10, n_estimators=150, subsample=0.75;, score=-0.143 total time=  17.6s\n",
      "[CV 5/5] END colsample_bytree=0.5, learning_rate=0.1, max_depth=10, n_estimators=200, subsample=0.75;, score=-0.161 total time=  23.4s\n",
      "[CV 3/5] END colsample_bytree=0.5, learning_rate=0.1, max_depth=30, n_estimators=100, subsample=0.75;, score=-0.084 total time=  38.7s\n",
      "[CV 5/5] END colsample_bytree=0.5, learning_rate=0.05, max_depth=30, n_estimators=150, subsample=0.75;, score=-0.059 total time=  55.7s\n",
      "[CV 4/5] END colsample_bytree=0.5, learning_rate=0.05, max_depth=30, n_estimators=200, subsample=0.75;, score=-0.038 total time= 1.3min\n",
      "[CV 3/5] END colsample_bytree=0.5, learning_rate=0.1, max_depth=None, n_estimators=100, subsample=0.75;, score=0.010 total time=   6.4s\n",
      "[CV 3/5] END colsample_bytree=0.5, learning_rate=0.1, max_depth=None, n_estimators=150, subsample=0.75;, score=0.001 total time=   9.6s\n",
      "[CV 3/5] END colsample_bytree=0.5, learning_rate=0.1, max_depth=None, n_estimators=200, subsample=0.75;, score=-0.010 total time=  12.9s\n",
      "[CV 3/5] END colsample_bytree=0.5, learning_rate=0.1, max_depth=10, n_estimators=100, subsample=0.75;, score=-0.041 total time=  12.0s\n",
      "[CV 3/5] END colsample_bytree=0.5, learning_rate=0.1, max_depth=10, n_estimators=150, subsample=0.75;, score=-0.060 total time=  17.8s\n",
      "[CV 4/5] END colsample_bytree=0.5, learning_rate=0.1, max_depth=10, n_estimators=200, subsample=0.75;, score=-0.056 total time=  23.6s\n",
      "[CV 2/5] END colsample_bytree=0.5, learning_rate=0.1, max_depth=30, n_estimators=100, subsample=0.75;, score=-0.125 total time=  38.8s\n",
      "[CV 2/5] END colsample_bytree=0.5, learning_rate=0.05, max_depth=30, n_estimators=150, subsample=0.75;, score=-0.088 total time=  55.9s\n",
      "[CV 2/5] END colsample_bytree=0.5, learning_rate=0.05, max_depth=30, n_estimators=200, subsample=0.75;, score=-0.087 total time= 1.3min\n",
      "[CV 2/5] END colsample_bytree=0.5, learning_rate=0.1, max_depth=None, n_estimators=100, subsample=0.75;, score=-0.009 total time=   6.5s\n",
      "[CV 2/5] END colsample_bytree=0.5, learning_rate=0.1, max_depth=None, n_estimators=150, subsample=0.75;, score=-0.023 total time=   9.7s\n",
      "[CV 2/5] END colsample_bytree=0.5, learning_rate=0.1, max_depth=None, n_estimators=200, subsample=0.75;, score=-0.042 total time=  13.0s\n",
      "[CV 2/5] END colsample_bytree=0.5, learning_rate=0.1, max_depth=10, n_estimators=100, subsample=0.75;, score=-0.062 total time=  12.0s\n",
      "[CV 2/5] END colsample_bytree=0.5, learning_rate=0.1, max_depth=10, n_estimators=150, subsample=0.75;, score=-0.081 total time=  17.9s\n",
      "[CV 2/5] END colsample_bytree=0.5, learning_rate=0.1, max_depth=10, n_estimators=200, subsample=0.75;, score=-0.089 total time=  23.7s\n",
      "[CV 4/5] END colsample_bytree=0.5, learning_rate=0.1, max_depth=30, n_estimators=100, subsample=0.75;, score=-0.054 total time=  38.7s\n",
      "[CV 2/5] END colsample_bytree=0.5, learning_rate=0.1, max_depth=30, n_estimators=150, subsample=0.75;, score=-0.124 total time=  59.5s\n",
      "[CV 5/5] END colsample_bytree=0.5, learning_rate=0.1, max_depth=30, n_estimators=150, subsample=0.75;, score=-0.105 total time=  59.3s\n",
      "[CV 3/5] END colsample_bytree=0.5, learning_rate=0.1, max_depth=30, n_estimators=200, subsample=0.75;, score=-0.084 total time= 1.1min\n",
      "[CV 3/5] END colsample_bytree=0.5, learning_rate=0.1, max_depth=30, n_estimators=150, subsample=0.75;, score=-0.084 total time=  59.9s\n",
      "[CV 5/5] END colsample_bytree=0.5, learning_rate=0.1, max_depth=30, n_estimators=200, subsample=0.75;, score=-0.105 total time= 1.1min\n",
      "[CV 4/5] END colsample_bytree=0.5, learning_rate=0.1, max_depth=30, n_estimators=150, subsample=0.75;, score=-0.054 total time=  59.6s\n",
      "[CV 4/5] END colsample_bytree=0.5, learning_rate=0.1, max_depth=30, n_estimators=200, subsample=0.75;, score=-0.054 total time= 1.2min\n",
      "[CV 3/5] END colsample_bytree=0.7, learning_rate=0.05, max_depth=None, n_estimators=100, subsample=0.75;, score=0.028 total time=   7.9s\n",
      "[CV 3/5] END colsample_bytree=0.7, learning_rate=0.05, max_depth=None, n_estimators=150, subsample=0.75;, score=0.026 total time=  12.1s\n",
      "[CV 3/5] END colsample_bytree=0.7, learning_rate=0.05, max_depth=None, n_estimators=200, subsample=0.75;, score=0.023 total time=  16.4s\n",
      "[CV 3/5] END colsample_bytree=0.7, learning_rate=0.05, max_depth=10, n_estimators=100, subsample=0.75;, score=-0.003 total time=  14.8s\n",
      "[CV 3/5] END colsample_bytree=0.7, learning_rate=0.05, max_depth=10, n_estimators=150, subsample=0.75;, score=-0.013 total time=  22.7s\n",
      "[CV 3/5] END colsample_bytree=0.7, learning_rate=0.05, max_depth=10, n_estimators=200, subsample=0.75;, score=-0.023 total time=  30.7s\n",
      "[CV 2/5] END colsample_bytree=0.7, learning_rate=0.05, max_depth=30, n_estimators=100, subsample=0.75;, score=-0.111 total time=  46.3s\n",
      "[CV 4/5] END colsample_bytree=0.7, learning_rate=0.05, max_depth=None, n_estimators=100, subsample=0.75;, score=0.024 total time=   8.0s\n",
      "[CV 4/5] END colsample_bytree=0.7, learning_rate=0.05, max_depth=None, n_estimators=150, subsample=0.75;, score=0.023 total time=  12.2s\n",
      "[CV 4/5] END colsample_bytree=0.7, learning_rate=0.05, max_depth=None, n_estimators=200, subsample=0.75;, score=0.017 total time=  16.5s\n",
      "[CV 4/5] END colsample_bytree=0.7, learning_rate=0.05, max_depth=10, n_estimators=100, subsample=0.75;, score=0.008 total time=  14.8s\n",
      "[CV 4/5] END colsample_bytree=0.7, learning_rate=0.05, max_depth=10, n_estimators=150, subsample=0.75;, score=-0.002 total time=  22.7s\n",
      "[CV 4/5] END colsample_bytree=0.7, learning_rate=0.05, max_depth=10, n_estimators=200, subsample=0.75;, score=-0.011 total time=  30.7s\n",
      "[CV 4/5] END colsample_bytree=0.7, learning_rate=0.05, max_depth=30, n_estimators=100, subsample=0.75;, score=-0.055 total time=  47.1s\n",
      "[CV 5/5] END colsample_bytree=0.7, learning_rate=0.05, max_depth=None, n_estimators=100, subsample=0.75;, score=-0.005 total time=   8.0s\n",
      "[CV 5/5] END colsample_bytree=0.7, learning_rate=0.05, max_depth=None, n_estimators=150, subsample=0.75;, score=-0.021 total time=  12.1s\n",
      "[CV 5/5] END colsample_bytree=0.7, learning_rate=0.05, max_depth=None, n_estimators=200, subsample=0.75;, score=-0.042 total time=  16.4s\n",
      "[CV 5/5] END colsample_bytree=0.7, learning_rate=0.05, max_depth=10, n_estimators=100, subsample=0.75;, score=-0.052 total time=  14.8s\n",
      "[CV 5/5] END colsample_bytree=0.7, learning_rate=0.05, max_depth=10, n_estimators=150, subsample=0.75;, score=-0.072 total time=  22.6s\n",
      "[CV 5/5] END colsample_bytree=0.7, learning_rate=0.05, max_depth=10, n_estimators=200, subsample=0.75;, score=-0.086 total time=  30.5s\n",
      "[CV 5/5] END colsample_bytree=0.7, learning_rate=0.05, max_depth=30, n_estimators=100, subsample=0.75;, score=-0.127 total time=  46.5s\n",
      "[CV 2/5] END colsample_bytree=0.5, learning_rate=0.1, max_depth=30, n_estimators=200, subsample=0.75;, score=-0.124 total time= 1.1min\n",
      "[CV 2/5] END colsample_bytree=0.7, learning_rate=0.05, max_depth=None, n_estimators=100, subsample=0.75;, score=0.015 total time=   8.1s\n",
      "[CV 2/5] END colsample_bytree=0.7, learning_rate=0.05, max_depth=None, n_estimators=150, subsample=0.75;, score=0.008 total time=  12.3s\n",
      "[CV 2/5] END colsample_bytree=0.7, learning_rate=0.05, max_depth=None, n_estimators=200, subsample=0.75;, score=0.001 total time=  16.7s\n",
      "[CV 2/5] END colsample_bytree=0.7, learning_rate=0.05, max_depth=10, n_estimators=100, subsample=0.75;, score=-0.033 total time=  15.0s\n",
      "[CV 2/5] END colsample_bytree=0.7, learning_rate=0.05, max_depth=10, n_estimators=150, subsample=0.75;, score=-0.050 total time=  23.1s\n",
      "[CV 2/5] END colsample_bytree=0.7, learning_rate=0.05, max_depth=10, n_estimators=200, subsample=0.75;, score=-0.060 total time=  31.2s\n",
      "[CV 3/5] END colsample_bytree=0.7, learning_rate=0.05, max_depth=30, n_estimators=100, subsample=0.75;, score=-0.064 total time=  46.9s\n",
      "[CV 3/5] END colsample_bytree=0.7, learning_rate=0.05, max_depth=30, n_estimators=150, subsample=0.75;, score=-0.060 total time= 1.2min\n",
      "[CV 1/5] END colsample_bytree=0.5, learning_rate=0.05, max_depth=30, n_estimators=150, subsample=0.75;, score=-0.081 total time=  55.6s\n",
      "[CV 1/5] END colsample_bytree=0.5, learning_rate=0.05, max_depth=30, n_estimators=200, subsample=0.75;, score=-0.080 total time= 1.3min\n",
      "[CV 1/5] END colsample_bytree=0.5, learning_rate=0.1, max_depth=None, n_estimators=100, subsample=0.75;, score=-0.078 total time=   6.4s\n",
      "[CV 1/5] END colsample_bytree=0.5, learning_rate=0.1, max_depth=None, n_estimators=150, subsample=0.75;, score=-0.202 total time=   9.6s\n",
      "[CV 1/5] END colsample_bytree=0.5, learning_rate=0.1, max_depth=None, n_estimators=200, subsample=0.75;, score=-0.309 total time=  12.9s\n",
      "[CV 1/5] END colsample_bytree=0.5, learning_rate=0.1, max_depth=10, n_estimators=100, subsample=0.75;, score=-0.115 total time=  11.9s\n",
      "[CV 1/5] END colsample_bytree=0.5, learning_rate=0.1, max_depth=10, n_estimators=150, subsample=0.75;, score=-0.140 total time=  17.7s\n",
      "[CV 1/5] END colsample_bytree=0.5, learning_rate=0.1, max_depth=10, n_estimators=200, subsample=0.75;, score=-0.146 total time=  23.5s\n",
      "[CV 1/5] END colsample_bytree=0.5, learning_rate=0.1, max_depth=30, n_estimators=100, subsample=0.75;, score=-0.118 total time=  38.5s\n",
      "[CV 1/5] END colsample_bytree=0.5, learning_rate=0.1, max_depth=30, n_estimators=150, subsample=0.75;, score=-0.117 total time=  59.3s\n",
      "[CV 1/5] END colsample_bytree=0.5, learning_rate=0.1, max_depth=30, n_estimators=200, subsample=0.75;, score=-0.117 total time= 1.1min\n",
      "[CV 1/5] END colsample_bytree=0.7, learning_rate=0.05, max_depth=None, n_estimators=100, subsample=0.75;, score=-0.016 total time=   8.1s\n",
      "[CV 1/5] END colsample_bytree=0.7, learning_rate=0.05, max_depth=None, n_estimators=150, subsample=0.75;, score=-0.027 total time=  12.3s\n",
      "[CV 1/5] END colsample_bytree=0.7, learning_rate=0.05, max_depth=None, n_estimators=200, subsample=0.75;, score=-0.098 total time=  16.6s\n",
      "[CV 1/5] END colsample_bytree=0.7, learning_rate=0.05, max_depth=10, n_estimators=100, subsample=0.75;, score=-0.025 total time=  15.1s\n",
      "[CV 1/5] END colsample_bytree=0.7, learning_rate=0.05, max_depth=10, n_estimators=150, subsample=0.75;, score=-0.034 total time=  23.2s\n",
      "[CV 1/5] END colsample_bytree=0.7, learning_rate=0.05, max_depth=10, n_estimators=200, subsample=0.75;, score=-0.044 total time=  31.1s\n",
      "[CV 1/5] END colsample_bytree=0.7, learning_rate=0.05, max_depth=30, n_estimators=100, subsample=0.75;, score=-0.100 total time=  46.7s\n",
      "[CV 1/5] END colsample_bytree=0.7, learning_rate=0.05, max_depth=30, n_estimators=150, subsample=0.75;, score=-0.092 total time= 1.2min\n",
      "[CV 1/5] END colsample_bytree=0.7, learning_rate=0.05, max_depth=30, n_estimators=200, subsample=0.75;, score=-0.090 total time= 1.7min\n",
      "[CV 1/5] END colsample_bytree=0.7, learning_rate=0.1, max_depth=None, n_estimators=100, subsample=0.75;, score=-0.060 total time=   8.4s\n",
      "[CV 1/5] END colsample_bytree=0.7, learning_rate=0.1, max_depth=None, n_estimators=150, subsample=0.75;, score=-0.124 total time=  12.6s\n",
      "[CV 1/5] END colsample_bytree=0.7, learning_rate=0.1, max_depth=None, n_estimators=200, subsample=0.75;, score=-0.222 total time=  16.8s\n",
      "[CV 1/5] END colsample_bytree=0.7, learning_rate=0.1, max_depth=10, n_estimators=100, subsample=0.75;, score=-0.097 total time=  15.5s\n",
      "[CV 1/5] END colsample_bytree=0.7, learning_rate=0.1, max_depth=10, n_estimators=150, subsample=0.75;, score=-0.117 total time=  23.4s\n",
      "[CV 1/5] END colsample_bytree=0.7, learning_rate=0.1, max_depth=10, n_estimators=200, subsample=0.75;, score=-0.127 total time=  31.8s\n",
      "[CV 1/5] END colsample_bytree=0.7, learning_rate=0.1, max_depth=30, n_estimators=100, subsample=0.75;, score=-0.148 total time=  50.6s\n",
      "[CV 5/5] END colsample_bytree=0.7, learning_rate=0.05, max_depth=30, n_estimators=150, subsample=0.75;, score=-0.121 total time= 1.2min\n",
      "[CV 5/5] END colsample_bytree=0.7, learning_rate=0.05, max_depth=30, n_estimators=200, subsample=0.75;, score=-0.119 total time= 1.7min\n",
      "[CV 4/5] END colsample_bytree=0.7, learning_rate=0.1, max_depth=None, n_estimators=100, subsample=0.75;, score=0.023 total time=   8.3s\n",
      "[CV 4/5] END colsample_bytree=0.7, learning_rate=0.1, max_depth=None, n_estimators=150, subsample=0.75;, score=0.013 total time=  12.5s\n",
      "[CV 4/5] END colsample_bytree=0.7, learning_rate=0.1, max_depth=None, n_estimators=200, subsample=0.75;, score=0.003 total time=  16.8s\n",
      "[CV 4/5] END colsample_bytree=0.7, learning_rate=0.1, max_depth=10, n_estimators=100, subsample=0.75;, score=-0.033 total time=  15.4s\n",
      "[CV 4/5] END colsample_bytree=0.7, learning_rate=0.1, max_depth=10, n_estimators=150, subsample=0.75;, score=-0.048 total time=  23.3s\n",
      "[CV 4/5] END colsample_bytree=0.7, learning_rate=0.1, max_depth=10, n_estimators=200, subsample=0.75;, score=-0.059 total time=  31.9s\n",
      "[CV 4/5] END colsample_bytree=0.7, learning_rate=0.1, max_depth=30, n_estimators=100, subsample=0.75;, score=-0.075 total time=  51.3s\n",
      "[CV 3/5] END colsample_bytree=0.7, learning_rate=0.05, max_depth=30, n_estimators=200, subsample=0.75;, score=-0.059 total time= 1.7min\n",
      "[CV 3/5] END colsample_bytree=0.7, learning_rate=0.1, max_depth=None, n_estimators=100, subsample=0.75;, score=0.004 total time=   8.3s\n",
      "[CV 3/5] END colsample_bytree=0.7, learning_rate=0.1, max_depth=None, n_estimators=150, subsample=0.75;, score=-0.006 total time=  12.5s\n",
      "[CV 3/5] END colsample_bytree=0.7, learning_rate=0.1, max_depth=None, n_estimators=200, subsample=0.75;, score=-0.025 total time=  16.8s\n",
      "[CV 3/5] END colsample_bytree=0.7, learning_rate=0.1, max_depth=10, n_estimators=100, subsample=0.75;, score=-0.053 total time=  15.5s\n",
      "[CV 3/5] END colsample_bytree=0.7, learning_rate=0.1, max_depth=10, n_estimators=150, subsample=0.75;, score=-0.062 total time=  23.4s\n",
      "[CV 3/5] END colsample_bytree=0.7, learning_rate=0.1, max_depth=10, n_estimators=200, subsample=0.75;, score=-0.073 total time=  32.1s\n",
      "[CV 3/5] END colsample_bytree=0.7, learning_rate=0.1, max_depth=30, n_estimators=100, subsample=0.75;, score=-0.095 total time=  50.9s\n",
      "[CV 3/5] END colsample_bytree=0.7, learning_rate=0.1, max_depth=30, n_estimators=150, subsample=0.75;, score=-0.095 total time= 1.3min\n",
      "[CV 1/5] END colsample_bytree=0.7, learning_rate=0.1, max_depth=30, n_estimators=150, subsample=0.75;, score=-0.147 total time= 1.3min\n",
      "[CV 1/5] END colsample_bytree=0.7, learning_rate=0.1, max_depth=30, n_estimators=200, subsample=0.75;, score=-0.147 total time= 1.5min\n",
      "[CV 4/5] END colsample_bytree=0.7, learning_rate=0.1, max_depth=30, n_estimators=150, subsample=0.75;, score=-0.075 total time= 1.3min\n",
      "[CV 4/5] END colsample_bytree=0.7, learning_rate=0.1, max_depth=30, n_estimators=200, subsample=0.75;, score=-0.075 total time= 1.5min\n",
      "1162.7708537578583\n",
      "0.012285521540579936\n",
      "{'colsample_bytree': 0.5, 'learning_rate': 0.05, 'max_depth': None, 'n_estimators': 100, 'subsample': 0.75}\n"
     ]
    }
   ],
   "source": [
    "### XGBoost Cross Validation for cv=5\n",
    "xgb = xgboost.XGBRegressor()\n",
    "\n",
    "parameters = {\n",
    "    'max_depth': [None, 10, 30],\n",
    "    'n_estimators': [100, 150, 200],\n",
    "    'learning_rate': [0.05, 0.1],\n",
    "    'colsample_bytree': [0.5, 0.7],\n",
    "    'subsample': [0.75] \n",
    "}\n",
    "\n",
    "xgb_grid = GridSearchCV(xgb, parameters, cv=5, n_jobs=5, verbose=5)\n",
    "\n",
    "start = time.time()\n",
    "xgb_grid.fit(x_train, y_train)\n",
    "print(time.time() - start)\n",
    "\n",
    "xgb_scores = pd.DataFrame(xgb_grid.cv_results_)\n",
    "xgb_scores[['params','mean_test_score', 'rank_test_score', 'split0_test_score','split1_test_score', 'split2_test_score']]\n",
    "\n",
    "print(xgb_grid.best_score_)\n",
    "print(xgb_grid.best_params_)"
   ]
  },
  {
   "cell_type": "code",
   "execution_count": 417,
   "metadata": {
    "scrolled": true
   },
   "outputs": [],
   "source": [
    "### Refit XGBoost for Best Hyper-Parameter\n",
    "xgb_best = xgboost.XGBRegressor(colsample_bytree = 0.5,\n",
    "                                learning_rate = 0.05, \n",
    "                                max_depth = None, \n",
    "                                n_estimators = 100, \n",
    "                                subsample = 0.75)\n",
    "\n",
    "xgb_best.fit(x_train, y_train)\n",
    "\n",
    "y_pred_xgb = xgb_best.predict(x_test)\n",
    "\n",
    "mse_xgb = np.sqrt(mean_squared_error(y_pred_xgb, y_test))\n",
    "a_xgb = pd.DataFrame(y_pred_xgb,y_test).reset_index()"
   ]
  },
  {
   "cell_type": "code",
   "execution_count": 46,
   "metadata": {},
   "outputs": [
    {
     "name": "stdout",
     "output_type": "stream",
     "text": [
      "평균제곱근오차 :  0.32269003929440526\n",
      "예측값과 상관계수 :  0.3005944780665503\n"
     ]
    }
   ],
   "source": [
    "print('평균제곱근오차 : ', mse_xgb)\n",
    "print('예측값과 상관계수 : ', a_xgb.corr().iloc[0,1])"
   ]
  },
  {
   "cell_type": "markdown",
   "metadata": {},
   "source": [
    "##### 5-3. LightGBM"
   ]
  },
  {
   "cell_type": "code",
   "execution_count": 41,
   "metadata": {},
   "outputs": [
    {
     "name": "stdout",
     "output_type": "stream",
     "text": [
      "Fitting 5 folds for each of 36 candidates, totalling 180 fits\n",
      "27.97442936897278\n",
      "0.019788780678146912\n",
      "{'colsample_bytree': 0.5, 'learning_rate': 0.05, 'max_depth': None, 'n_estimators': 100, 'subsample': 0.75}\n"
     ]
    }
   ],
   "source": [
    "### LightGBM Cross Validation for cv=5\n",
    "lgbm = LGBMRegressor()\n",
    "\n",
    "parameters = {\n",
    "    'max_depth': [None, 10, 30],\n",
    "    'n_estimators': [100, 150, 200],\n",
    "    'learning_rate': [0.05, 0.1],\n",
    "    'colsample_bytree': [0.5, 0.7],\n",
    "    'subsample': [0.75]\n",
    "}\n",
    "\n",
    "lgbm_grid = GridSearchCV(lgbm, parameters, cv=5, n_jobs=5, verbose=5)\n",
    "\n",
    "start = time.time()\n",
    "lgbm_grid.fit(x_train, y_train)\n",
    "print(time.time() - start)\n",
    "\n",
    "_lgbm = pd.DataFrame(lgbm_grid.cv_results_)\n",
    "scores_lgbm[['params','mean_test_score', 'rank_test_score', 'split0_test_score','split1_test_score', 'split2_test_score']]\n",
    "\n",
    "print(lgbm_grid.best_score_)\n",
    "print(lgbm_grid.best_params_)"
   ]
  },
  {
   "cell_type": "code",
   "execution_count": 418,
   "metadata": {},
   "outputs": [],
   "source": [
    "### Refit LightGBM for Best Hyper-Parameter\n",
    "lgbm_best = LGBMRegressor(colsample_bytree = 0.5, \n",
    "                          learning_rate = 0.05,\n",
    "                          max_depth = None,\n",
    "                          n_estimators = 100,\n",
    "                          subsample = 0.75)\n",
    "\n",
    "lgbm_best.fit(x_train, y_train)\n",
    "\n",
    "y_pred_lgbm = lgbm_best.predict(x_test)\n",
    "\n",
    "mse_lgbm = np.sqrt(mean_squared_error(y_pred_lgbm, y_test))\n",
    "a_lgbm = pd.DataFrame(y_pred_lgbm,y_test).reset_index()"
   ]
  },
  {
   "cell_type": "code",
   "execution_count": 419,
   "metadata": {},
   "outputs": [
    {
     "name": "stdout",
     "output_type": "stream",
     "text": [
      "평균제곱근오차 :  0.3216166838029524\n",
      "예측값과 상관계수 :  0.27963947179028115\n"
     ]
    }
   ],
   "source": [
    "print('평균제곱근오차 : ', mse_lgbm)\n",
    "print('예측값과 상관계수 : ', a_lgbm.corr().iloc[0,1])"
   ]
  },
  {
   "cell_type": "markdown",
   "metadata": {},
   "source": [
    "##### 5-4. Prediction : Final Sharpe Index\n",
    ": 모형 3개 비교 결과 평균제곱근오차가 제일 작고 예측값과의 상관계수가 제일 높은 Random Forest 모형으로 결정"
   ]
  },
  {
   "cell_type": "code",
   "execution_count": 370,
   "metadata": {},
   "outputs": [],
   "source": [
    "### Final Model : Random Forest at Hyper-paramer \n",
    "\n",
    "## Model Setting\n",
    "final = RandomForestRegressor(random_state = 0, max_depth = 10, n_estimators = 200)\n",
    "\n",
    "## 2023년 7월 28일 데이터 예측\n",
    "final_pred = final.predict(real_test)\n",
    "\n",
    "## 2023년 7월 28일 데이터 Merge\n",
    "real_test['real_test'] = final_pred\n",
    "result = pd.merge(real_test,code_dict,left_on = '종목코드',right_on = '종목코드_x',how = 'left')\n",
    "result = result[['종목코드_y','real_test']]\n",
    "result.columns = ['종목코드','SI']"
   ]
  },
  {
   "cell_type": "markdown",
   "metadata": {},
   "source": [
    "### 6. Data Export"
   ]
  },
  {
   "cell_type": "code",
   "execution_count": 341,
   "metadata": {},
   "outputs": [],
   "source": [
    "### Data Export\n",
    "\n",
    "## Sharpe Index Prediction Value Export\n",
    "result.to_csv(\"C:/Users/kyt28/OneDrive/바탕 화면/submit_data/phase4_result1\", index = False, encoding=\"utf-8-sig\")\n",
    "\n",
    "## Exception Stock Export\n",
    "ex1 = pd.DataFrame(excep_code1)\n",
    "ex1.columns = ['종목코드']\n",
    "ex2 = pd.DataFrame(excep_code2)\n",
    "ex2.columns = ['종목코드']\n",
    "excep_result = pd.concat([ex1,ex2],axis=0).reset_index(drop=True)\n",
    "\n",
    "excep_result.to_csv(\"C:/Users/kyt28/OneDrive/바탕 화면/submit_data/phase4_result2.csv\", index = False, encoding=\"utf-8-sig\")"
   ]
  },
  {
   "cell_type": "markdown",
   "metadata": {},
   "source": [
    "---------------------------------------------------------------------------------------------------------------------------------------------------------------------"
   ]
  },
  {
   "cell_type": "markdown",
   "metadata": {},
   "source": [
    "## Phase 5. Final Portfolio\n",
    ": 모든 결과를 총합하여 최종의 포트폴리오를 제작"
   ]
  },
  {
   "cell_type": "markdown",
   "metadata": {},
   "source": [
    "### 1. Data Import"
   ]
  },
  {
   "cell_type": "code",
   "execution_count": 460,
   "metadata": {},
   "outputs": [],
   "source": [
    "### Data Import\n",
    "\n",
    "## Phase1 & Phase2 & Phase3 Result Merged Data\n",
    "result1 = pd.read_csv(\"C:/Users/kyt28/OneDrive/바탕 화면/submit_data/phase3_result.csv\")\n",
    "\n",
    "## Phase4 Sharpe Index Prediction Data\n",
    "result2 = pd.read_csv(\"C:/Users/kyt28/OneDrive/바탕 화면/submit_data/phase4_result1.csv\")\n",
    "\n",
    "# Data Sort by Sharpe Index\n",
    "result2 = result2.sort_values(by = 'SI', ascending = False).reset_index(drop=True)\n",
    "\n",
    "## Phase4 Exception Data : 여기서 result1과의 교집합은 삭제 (이유 = Phase1이후, Phase4에서 다시 데이터를 불러왔기 때문에 Phase3에서 제외했던 종목도 똑같이 제외)\n",
    "result3 = pd.read_csv(\"C:/Users/kyt28/OneDrive/바탕 화면/submit_data/phase4_result2.csv\")\n",
    "exc = set(result1['종목코드']).intersection(set(result3['종목코드']))\n",
    "result3 = result3[~result3['종목코드'].isin(exc)]"
   ]
  },
  {
   "cell_type": "code",
   "execution_count": 461,
   "metadata": {},
   "outputs": [],
   "source": [
    "### Rank Index\n",
    "\n",
    "## Short Portfolio Rank\n",
    "rest_short_num = result1[result1['순위'] > 1800]['순위'].tolist()[0] - 1801\n",
    "rest_short = result2.tail(int(rest_short_num))\n",
    "rest_short['순위'] = np.arange(1801,1801+rest_short_num)\n",
    "rest_short = rest_short[['종목코드','순위']]\n",
    "\n",
    "## Long & Rest Portfolio Rank\n",
    "\n",
    "# rest result2 data\n",
    "rest_short_code = rest_short['종목코드'].tolist()\n",
    "result2 = result2[~result2['종목코드'].isin(rest_short_code)].drop('SI',axis=1)\n",
    "\n",
    "# merge result2 & result3\n",
    "rest_portfolio = pd.concat([result2,result3],axis=0)\n",
    "result1_max_num = result1[result1['순위'] <= 200]['순위'].tolist()[-1]\n",
    "rest_portfolio['순위'] = np.arange(result1_max_num+1,len(rest_portfolio)+result1_max_num+1)"
   ]
  },
  {
   "cell_type": "markdown",
   "metadata": {},
   "source": [
    "### 2. Data Export"
   ]
  },
  {
   "cell_type": "code",
   "execution_count": 463,
   "metadata": {},
   "outputs": [],
   "source": [
    "### Merge Total Data\n",
    "total_portfolio = pd.concat([result1,rest_short,rest_portfolio],axis=0).sort_values(by = '순위').reset_index(drop=True)\n",
    "total_portfolio.to_csv(\"C:/Users/kyt28/OneDrive/바탕 화면/submit_data/private_submission.csv\", index = False, encoding=\"utf-8-sig\")"
   ]
  }
 ],
 "metadata": {
  "kernelspec": {
   "display_name": "Python 3 (ipykernel)",
   "language": "python",
   "name": "python3"
  },
  "language_info": {
   "codemirror_mode": {
    "name": "ipython",
    "version": 3
   },
   "file_extension": ".py",
   "mimetype": "text/x-python",
   "name": "python",
   "nbconvert_exporter": "python",
   "pygments_lexer": "ipython3",
   "version": "3.10.6"
  }
 },
 "nbformat": 4,
 "nbformat_minor": 4
}
